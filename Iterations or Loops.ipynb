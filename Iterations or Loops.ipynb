{
 "cells": [
  {
   "cell_type": "code",
   "execution_count": 1,
   "metadata": {
    "collapsed": false
   },
   "outputs": [
    {
     "name": "stdout",
     "output_type": "stream",
     "text": [
      "1 1\n",
      "2 4\n",
      "3 9\n",
      "4 16\n",
      "5 25\n"
     ]
    }
   ],
   "source": [
    "#print squares\n",
    "for i in range(1, 6):\n",
    "    print(i, i*i)"
   ]
  },
  {
   "cell_type": "code",
   "execution_count": 6,
   "metadata": {
    "collapsed": false
   },
   "outputs": [
    {
     "name": "stdout",
     "output_type": "stream",
     "text": [
      "Please enter an integer!2\n",
      "2 x 1 = 2\n",
      "2 x 2 = 4\n",
      "2 x 3 = 6\n",
      "2 x 4 = 8\n",
      "2 x 5 = 10\n",
      "2 x 6 = 12\n",
      "2 x 7 = 14\n",
      "2 x 8 = 16\n",
      "2 x 9 = 18\n",
      "2 x 10 = 20\n"
     ]
    }
   ],
   "source": [
    "#print a pretty table\n",
    "\n",
    "N = int(input(\"Please enter an integer!\"))\n",
    "for i in range(1, 11):\n",
    "    print(N, \"x\", i, \"=\", N*i)"
   ]
  },
  {
   "cell_type": "code",
   "execution_count": 11,
   "metadata": {
    "collapsed": false
   },
   "outputs": [
    {
     "name": "stdout",
     "output_type": "stream",
     "text": [
      "Please enter a number:5\n",
      "Factorial is 120\n"
     ]
    }
   ],
   "source": [
    "#Find the factorial of a number\n",
    "\n",
    "N = int(input(\"Please enter a number:\"))\n",
    "\n",
    "F = 1\n",
    "\n",
    "for counter in range(1, N+1):\n",
    "    F *= counter # F = F * counter\n",
    "    \n",
    "print(\"Factorial is\", F)"
   ]
  },
  {
   "cell_type": "code",
   "execution_count": 12,
   "metadata": {
    "collapsed": false
   },
   "outputs": [
    {
     "name": "stdout",
     "output_type": "stream",
     "text": [
      "1 4 7 10 13 16 19 22 25 28 "
     ]
    }
   ],
   "source": [
    "#print the series(horizontally)\n",
    "\n",
    "for i in range(1, 29, 3):\n",
    "    print(i,end=\" \")"
   ]
  },
  {
   "cell_type": "code",
   "execution_count": 13,
   "metadata": {
    "collapsed": false
   },
   "outputs": [
    {
     "name": "stdout",
     "output_type": "stream",
     "text": [
      "1,4,7,10,13,16,19,22,25,28,"
     ]
    }
   ],
   "source": [
    "for i in range(1, 29, 3):\n",
    "    print(i,end=\",\")"
   ]
  },
  {
   "cell_type": "code",
   "execution_count": 15,
   "metadata": {
    "collapsed": false
   },
   "outputs": [
    {
     "name": "stdout",
     "output_type": "stream",
     "text": [
      "Please enter a number: 5\n",
      "Sum is  15\n"
     ]
    }
   ],
   "source": [
    "#sum of the first N numbers\n",
    "N = int(input(\"Please enter a number: \"))\n",
    "SUM = 0\n",
    "for i in range(1, N+1):\n",
    "    SUM += i\n",
    "print(\"Sum is \", SUM)"
   ]
  },
  {
   "cell_type": "code",
   "execution_count": 22,
   "metadata": {
    "collapsed": false
   },
   "outputs": [
    {
     "name": "stdout",
     "output_type": "stream",
     "text": [
      "0\n",
      "1\n",
      "2\n",
      "4\n",
      "Hello\n"
     ]
    }
   ],
   "source": [
    "#break and continue\n",
    "for i in range(5):\n",
    "    if i == 3:\n",
    "        continue\n",
    "    print(i)\n",
    "print(\"Hello\")"
   ]
  },
  {
   "cell_type": "code",
   "execution_count": 20,
   "metadata": {
    "collapsed": false
   },
   "outputs": [
    {
     "name": "stdout",
     "output_type": "stream",
     "text": [
      "0\n",
      "1\n",
      "2\n",
      "Hello\n"
     ]
    }
   ],
   "source": [
    "for i in range(5):\n",
    "    if i == 3:\n",
    "        break\n",
    "    print(i)\n",
    "print(\"Hello\")"
   ]
  },
  {
   "cell_type": "code",
   "execution_count": 4,
   "metadata": {
    "collapsed": false
   },
   "outputs": [
    {
     "name": "stdout",
     "output_type": "stream",
     "text": [
      "Please enter a number: 4\n",
      "4 is not a prime number\n"
     ]
    }
   ],
   "source": [
    "#find a prime number(using break)\n",
    "\n",
    "N = int(input(\"Please enter a number: \"))\n",
    "isPrime = True \n",
    "for i in range(2, N // 2 + 1):\n",
    "    if N % i == 0:\n",
    "        isPrime = False\n",
    "        break\n",
    "if isPrime == True:\n",
    "    print(N, \"is a prime number\")\n",
    "else:\n",
    "    print(N, \"is not a prime number\")    "
   ]
  },
  {
   "cell_type": "code",
   "execution_count": 6,
   "metadata": {
    "collapsed": false
   },
   "outputs": [
    {
     "name": "stdout",
     "output_type": "stream",
     "text": [
      "Please enter a number: 3\n",
      "3 is a prime number\n"
     ]
    }
   ],
   "source": [
    "#find a prime number(using break) improved\n",
    "\n",
    "N = int(input(\"Please enter a number: \"))\n",
    "isPrime = True \n",
    "if N > 1:\n",
    "    for i in range(2, N // 2 + 1):\n",
    "        if N % i == 0:\n",
    "            isPrime = False\n",
    "            break\n",
    "    if isPrime == True:\n",
    "        print(N, \"is a prime number\")\n",
    "    else:\n",
    "        print(N, \"is a composite number\")  \n",
    "else:\n",
    "    print(N, \"is not a prime number\")"
   ]
  },
  {
   "cell_type": "code",
   "execution_count": 3,
   "metadata": {
    "collapsed": true
   },
   "outputs": [
    {
     "name": "stdout",
     "output_type": "stream",
     "text": [
      "1\n",
      "2\n",
      "4\n",
      "7\n",
      "8\n",
      "11\n",
      "13\n",
      "14\n",
      "16\n",
      "17\n",
      "19\n",
      "22\n",
      "23\n",
      "26\n",
      "28\n",
      "29\n",
      "31\n",
      "32\n",
      "34\n",
      "37\n",
      "38\n",
      "41\n",
      "43\n",
      "44\n",
      "46\n",
      "47\n",
      "49\n",
      "52\n",
      "53\n",
      "56\n",
      "58\n",
      "59\n",
      "61\n",
      "62\n",
      "64\n",
      "67\n",
      "68\n",
      "71\n",
      "73\n",
      "74\n",
      "76\n",
      "77\n",
      "79\n",
      "82\n",
      "83\n",
      "86\n",
      "88\n",
      "89\n",
      "91\n",
      "92\n",
      "94\n",
      "97\n",
      "98\n"
     ]
    }
   ],
   "source": [
    "#show specific numbers\n",
    "for i in range(1, 101):\n",
    "    if i % 3 == 0 or i % 5 == 0:\n",
    "        continue\n",
    "    else:\n",
    "        print(i)"
   ]
  },
  {
   "cell_type": "code",
   "execution_count": 5,
   "metadata": {
    "collapsed": false
   },
   "outputs": [
    {
     "name": "stdout",
     "output_type": "stream",
     "text": [
      "1\n",
      "2\n",
      "3\n",
      "4\n",
      "5\n",
      "6\n",
      "7\n",
      "8\n",
      "9\n",
      "10\n"
     ]
    }
   ],
   "source": [
    "# while loop\n",
    "N = 1\n",
    "while N <= 10:\n",
    "    print(N)\n",
    "    N += 1 # N = N + 1    "
   ]
  },
  {
   "cell_type": "code",
   "execution_count": 10,
   "metadata": {
    "collapsed": false
   },
   "outputs": [
    {
     "name": "stdout",
     "output_type": "stream",
     "text": [
      "Please enter a number: 10\n",
      "You entered  10\n",
      "Please enter the number again: -1\n",
      "You exited!\n"
     ]
    }
   ],
   "source": [
    "# Looping until we get positive numbers\n",
    "num = int(input(\"Please enter a number: \"))\n",
    "while num > 0:\n",
    "    print(\"You entered \", num)\n",
    "    num = int(input(\"Please enter the number again: \"))\n",
    "    print(\"You exited!\")"
   ]
  },
  {
   "cell_type": "code",
   "execution_count": null,
   "metadata": {
    "collapsed": false
   },
   "outputs": [],
   "source": [
    "# enter numbers in a valid range\n",
    "N = int(input(\"Please enter the number: \"))\n",
    "while N < 1 or N > 10:\n",
    "    N = int(input(\"Please re-enter the number in range 1 to 10: \"))\n",
    "    print(\"Congratulations, you entered the number in the correct range: \")"
   ]
  },
  {
   "cell_type": "code",
   "execution_count": 1,
   "metadata": {
    "collapsed": false
   },
   "outputs": [
    {
     "name": "stdout",
     "output_type": "stream",
     "text": [
      "Please enter a number: -1\n",
      "please re-enter the number in the range 1 to 10: 3\n",
      "Congratulations, you entered the number in the correct range\n"
     ]
    }
   ],
   "source": [
    "N = int(input(\"Please enter a number: \"))\n",
    "\n",
    "while True:\n",
    "    if N < 1 or N > 10:\n",
    "        N = int(input(\"please re-enter the number in the range 1 to 10: \"))\n",
    "    else:\n",
    "        print(\"Congratulations, you entered the number in the correct range\")\n",
    "        break"
   ]
  },
  {
   "cell_type": "code",
   "execution_count": null,
   "metadata": {
    "collapsed": false
   },
   "outputs": [],
   "source": [
    "# student mangement system\n",
    "while True:\n",
    "    print('-' * 25)\n",
    "    print(\"Student Management System\")\n",
    "    print('-' * 25)\n",
    "    print(\"1. add a student\\n2. delete a student\\n3. search for a student\\n4. exit\")\n",
    "    \n",
    "    option = int(input(\"Please enter the option: \"))\n",
    "    if option == 1:\n",
    "        print(\"Student added successfully\")\n",
    "    elif option == 2:\n",
    "        print(\"Student deleted successfully\")\n",
    "    elif option == 3:\n",
    "        print(\"Student record was found successfully\")\n",
    "    elif option == 4:\n",
    "        break\n",
    "    else:\n",
    "        print(\"Please enter a valid option\")\n",
    "    \n",
    "    choice = input(\"Do you want to continue(y/n)?\")\n",
    "    \n",
    "    if choice == 'Y' or choice == 'y':\n",
    "        continue\n",
    "    else:\n",
    "        break\n",
    "print(\"Thank-you! See you later!\")"
   ]
  },
  {
   "cell_type": "code",
   "execution_count": 1,
   "metadata": {
    "collapsed": false
   },
   "outputs": [
    {
     "data": {
      "text/plain": [
       "3"
      ]
     },
     "execution_count": 1,
     "metadata": {},
     "output_type": "execute_result"
    }
   ],
   "source": [
    "# random numbers\n",
    "import random \n",
    "random.randint(1, 5)"
   ]
  },
  {
   "cell_type": "code",
   "execution_count": 4,
   "metadata": {
    "collapsed": false
   },
   "outputs": [
    {
     "name": "stdout",
     "output_type": "stream",
     "text": [
      "0\n",
      "1\n",
      "2\n",
      "3\n",
      "4\n"
     ]
    }
   ],
   "source": [
    "for i in range(5):\n",
    "    random.randint(1, 10)\n",
    "    print(i)"
   ]
  },
  {
   "cell_type": "code",
   "execution_count": 5,
   "metadata": {
    "collapsed": false
   },
   "outputs": [
    {
     "data": {
      "text/plain": [
       "3"
      ]
     },
     "execution_count": 5,
     "metadata": {},
     "output_type": "execute_result"
    }
   ],
   "source": [
    "random.choice([1, 2, 3, 4, 5])"
   ]
  },
  {
   "cell_type": "code",
   "execution_count": 6,
   "metadata": {
    "collapsed": false
   },
   "outputs": [
    {
     "data": {
      "text/plain": [
       "41"
      ]
     },
     "execution_count": 6,
     "metadata": {},
     "output_type": "execute_result"
    }
   ],
   "source": [
    "random.choice([10, 20, 30, 41, 50])"
   ]
  },
  {
   "cell_type": "code",
   "execution_count": 9,
   "metadata": {
    "collapsed": false
   },
   "outputs": [
    {
     "name": "stdout",
     "output_type": "stream",
     "text": [
      "Enter your guess: 4\n",
      "Your guess is too low!\n",
      "Enter your guess: 2\n",
      "Your guess is too low!\n",
      "Enter your guess: 6\n",
      "Your guess is too low!\n",
      "Enter your guess: 8\n",
      "Your guess is too low!\n",
      "Enter your guess: 9\n",
      "You guessed the number correctly! 5 tries to guess the number.\n"
     ]
    }
   ],
   "source": [
    "# number guessing game\n",
    "import random \n",
    "secret = random.randint(1, 10)\n",
    "guess = 0\n",
    "tries = 0\n",
    "while guess != secret and tries < 5:\n",
    "    guess = int(input(\"Enter your guess: \"))\n",
    "    if guess < secret:\n",
    "        print(\"Your guess is too low!\")\n",
    "    elif guess > secret:\n",
    "        print(\"Your guess is too high!\")\n",
    "    tries += 1\n",
    "    \n",
    "if guess == secret:\n",
    "    print(\"You guessed the number correctly!\", tries, \"tries to guess the number.\")\n",
    "    \n",
    "else: \n",
    "    print(\"You guessed incorrectly! Try again!\")"
   ]
  },
  {
   "cell_type": "code",
   "execution_count": 10,
   "metadata": {
    "collapsed": false
   },
   "outputs": [
    {
     "name": "stdout",
     "output_type": "stream",
     "text": [
      "1 1\n",
      "1 2\n",
      "1 3\n",
      "1 4\n",
      "1 5\n",
      "2 1\n",
      "2 2\n",
      "2 3\n",
      "2 4\n",
      "2 5\n",
      "3 1\n",
      "3 2\n",
      "3 3\n",
      "3 4\n",
      "3 5\n",
      "4 1\n",
      "4 2\n",
      "4 3\n",
      "4 4\n",
      "4 5\n",
      "5 1\n",
      "5 2\n",
      "5 3\n",
      "5 4\n",
      "5 5\n"
     ]
    }
   ],
   "source": [
    "# nested loops\n",
    "for outer in range(1, 6):\n",
    "    for inner in range(1, 6):\n",
    "        print(outer, inner)"
   ]
  },
  {
   "cell_type": "code",
   "execution_count": 11,
   "metadata": {
    "collapsed": false
   },
   "outputs": [
    {
     "name": "stdout",
     "output_type": "stream",
     "text": [
      "1 \n",
      "1 2 \n",
      "1 2 3 \n",
      "1 2 3 4 \n",
      "1 2 3 4 5 \n",
      "1 2 3 4 5 6 \n",
      "1 2 3 4 5 6 7 \n",
      "1 2 3 4 5 6 7 8 \n",
      "1 2 3 4 5 6 7 8 9 \n"
     ]
    }
   ],
   "source": [
    "# display a pattern of numbers\n",
    "for i in range(1, 10):\n",
    "    for j in range(1, i + 1):\n",
    "        print(j, end=\" \")\n",
    "    print()      "
   ]
  },
  {
   "cell_type": "code",
   "execution_count": 12,
   "metadata": {
    "collapsed": false
   },
   "outputs": [
    {
     "name": "stdout",
     "output_type": "stream",
     "text": [
      "\n",
      "1 2 3 4 5 6 \n",
      " \n",
      "1 2 3 4 5 \n",
      "  \n",
      "1 2 3 4 \n",
      "   \n",
      "1 2 3 \n",
      "    \n",
      "1 2 \n",
      "     \n",
      "1 \n"
     ]
    }
   ],
   "source": [
    "# display an inverted pattern of numbers\n",
    "for i in range(1, 7):\n",
    "    print(\" \" * (7 - (8 - i)))\n",
    "    for j in range(1, 8 - i):\n",
    "        print(j, end = \" \")\n",
    "    print()"
   ]
  },
  {
   "cell_type": "code",
   "execution_count": 16,
   "metadata": {
    "collapsed": false
   },
   "outputs": [
    {
     "name": "stdout",
     "output_type": "stream",
     "text": [
      "1 2 3 4 5 6 \n",
      " 1 2 3 4 5 \n",
      "  1 2 3 4 \n",
      "   1 2 3 \n",
      "    1 2 \n",
      "     1 \n"
     ]
    }
   ],
   "source": [
    "for i in range(1, 7):\n",
    "    print(\" \" * (7 - (8 - i)), end = '')\n",
    "    for j in range(1, 8 -i):\n",
    "        print(j, end = \" \")\n",
    "    print()"
   ]
  },
  {
   "cell_type": "code",
   "execution_count": 2,
   "metadata": {
    "collapsed": false
   },
   "outputs": [
    {
     "name": "stdout",
     "output_type": "stream",
     "text": [
      "Please enter the number up to which you want to find the prime numbes: 1\n",
      "Prime numbers should be greater than 1\n",
      "0 prime numbers are found\n"
     ]
    }
   ],
   "source": [
    "# find the first N primes\n",
    "N = int(input(\"Please enter the number up to which you want to find the prime numbes: \"))\n",
    "count = 0\n",
    "isPrime = True\n",
    "if N > 1:\n",
    "    for i in range(2, N + 1):\n",
    "        isPrime = True\n",
    "        for j in range(2, i // 2 + 1):\n",
    "            if i % j == 0:\n",
    "                isPrime = False\n",
    "                break\n",
    "        if isPrime:\n",
    "            print(i, \"is a prime number\")\n",
    "            count += 1\n",
    "        \n",
    "else:\n",
    "    print(\"Prime numbers should be greater than 1\")\n",
    "print(count, \"prime numbers are found\")"
   ]
  }
 ],
 "metadata": {
  "kernelspec": {
   "display_name": "Python 3",
   "language": "python",
   "name": "python3"
  },
  "language_info": {
   "codemirror_mode": {
    "name": "ipython",
    "version": 3
   },
   "file_extension": ".py",
   "mimetype": "text/x-python",
   "name": "python",
   "nbconvert_exporter": "python",
   "pygments_lexer": "ipython3",
   "version": "3.5.1"
  }
 },
 "nbformat": 4,
 "nbformat_minor": 0
}
