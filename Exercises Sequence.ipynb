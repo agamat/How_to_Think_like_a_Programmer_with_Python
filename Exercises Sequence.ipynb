{
 "cells": [
  {
   "cell_type": "code",
   "execution_count": 2,
   "metadata": {
    "collapsed": false
   },
   "outputs": [
    {
     "name": "stdout",
     "output_type": "stream",
     "text": [
      "Please enter the radius:12\n",
      "Please enter the circumference:34\n",
      "The area of the circle is 34074.777599999994\n"
     ]
    }
   ],
   "source": [
    "#task 1\n",
    "#Write a program that takes radius from user and calculates the area and circumference of circle. The area and circumference of circle should be displayed on the screen\n",
    "#(Hint: Area = 3.14 * radius * radius, Circumference = 2ᴨr)\n",
    "\n",
    "radius = int(input(\"Please enter the radius:\"))\n",
    "circumference = int(input(\"Please enter the circumference:\"))\n",
    "circumference = 2*3.14*radius\n",
    "area = 3.14*radius*radius*circumference\n",
    "print(\"The area of the circle is\", area)"
   ]
  },
  {
   "cell_type": "code",
   "execution_count": 5,
   "metadata": {
    "collapsed": false
   },
   "outputs": [
    {
     "name": "stdout",
     "output_type": "stream",
     "text": [
      "Please enter your name:Martin\n",
      "Please enter your age:38\n",
      "Please enter your gender:Male\n",
      "Martin\n",
      "38\n",
      "Male\n"
     ]
    }
   ],
   "source": [
    "#Task No. 2:\n",
    "#Write a program that takes the name, age and gender from the user and then it should displays the information in the following format;\n",
    "\n",
    "name = input(\"Please enter your name:\")\n",
    "age = input(\"Please enter your age:\")\n",
    "gender = input(\"Please enter your gender:\")\n",
    "print(name)\n",
    "\n",
    "print(age)\n",
    "\n",
    "print(gender)"
   ]
  },
  {
   "cell_type": "code",
   "execution_count": 9,
   "metadata": {
    "collapsed": false
   },
   "outputs": [
    {
     "name": "stdout",
     "output_type": "stream",
     "text": [
      "Please enter the speed:34\n",
      "Please enter the time:23\n",
      "The distance covered is 782 unit(s).\n"
     ]
    }
   ],
   "source": [
    "#Task No. 3: \n",
    "#Take the speed and time from the user and then calculate the distance covered by some object using the following formula\n",
    "speed = int(input(\"Please enter the speed:\"))\n",
    "time = int(input(\"Please enter the time:\"))\n",
    "distance_covered = speed*time\n",
    "print(\"The distance covered is\", distance_covered, \"unit(s).\")\n"
   ]
  },
  {
   "cell_type": "code",
   "execution_count": null,
   "metadata": {
    "collapsed": true
   },
   "outputs": [],
   "source": []
  },
  {
   "cell_type": "code",
   "execution_count": null,
   "metadata": {
    "collapsed": true
   },
   "outputs": [],
   "source": []
  }
 ],
 "metadata": {
  "kernelspec": {
   "display_name": "Python 3",
   "language": "python",
   "name": "python3"
  },
  "language_info": {
   "codemirror_mode": {
    "name": "ipython",
    "version": 3
   },
   "file_extension": ".py",
   "mimetype": "text/x-python",
   "name": "python",
   "nbconvert_exporter": "python",
   "pygments_lexer": "ipython3",
   "version": "3.5.1"
  }
 },
 "nbformat": 4,
 "nbformat_minor": 0
}
