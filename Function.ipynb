{
 "cells": [
  {
   "cell_type": "code",
   "execution_count": 4,
   "metadata": {
    "collapsed": false
   },
   "outputs": [
    {
     "name": "stdout",
     "output_type": "stream",
     "text": [
      "Hello World from function\n"
     ]
    }
   ],
   "source": [
    "# intro to functions\n",
    "def helloWorld():\n",
    "    print(\"Hello World from function\")\n",
    "helloWorld()"
   ]
  },
  {
   "cell_type": "code",
   "execution_count": 5,
   "metadata": {
    "collapsed": false
   },
   "outputs": [
    {
     "name": "stdout",
     "output_type": "stream",
     "text": [
      "Hello World from function\n",
      "Hello World from program\n",
      "Hello World from function\n"
     ]
    }
   ],
   "source": [
    "helloWorld()\n",
    "print(\"Hello World from program\")\n",
    "helloWorld()"
   ]
  },
  {
   "cell_type": "code",
   "execution_count": 6,
   "metadata": {
    "collapsed": false
   },
   "outputs": [
    {
     "name": "stdout",
     "output_type": "stream",
     "text": [
      "*****\n"
     ]
    }
   ],
   "source": [
    "def printAsterisks(N):\n",
    "    print(\"*\" * N)\n",
    "    \n",
    "printAsterisks(5)"
   ]
  },
  {
   "cell_type": "code",
   "execution_count": 7,
   "metadata": {
    "collapsed": false
   },
   "outputs": [
    {
     "name": "stdout",
     "output_type": "stream",
     "text": [
      "Enter number 1: 4\n",
      "Enter number 2: 3\n",
      "The maximum value is 4\n"
     ]
    }
   ],
   "source": [
    "def Max(a, b):\n",
    "    if a > b:\n",
    "        return a\n",
    "    else:\n",
    "        return b\n",
    "    \n",
    "num1 = int(input(\"Enter number 1: \"))\n",
    "num2 = int(input(\"Enter number 2: \"))\n",
    "\n",
    "print(\"The maximum value is\", Max(num1, num2))"
   ]
  },
  {
   "cell_type": "code",
   "execution_count": 8,
   "metadata": {
    "collapsed": false
   },
   "outputs": [
    {
     "data": {
      "text/plain": [
       "5"
      ]
     },
     "execution_count": 8,
     "metadata": {},
     "output_type": "execute_result"
    }
   ],
   "source": [
    "9len(\"hello\")"
   ]
  },
  {
   "cell_type": "code",
   "execution_count": 9,
   "metadata": {
    "collapsed": false
   },
   "outputs": [
    {
     "data": {
      "text/plain": [
       "20"
      ]
     },
     "execution_count": 9,
     "metadata": {},
     "output_type": "execute_result"
    }
   ],
   "source": [
    "max(10, 20)"
   ]
  },
  {
   "cell_type": "code",
   "execution_count": 10,
   "metadata": {
    "collapsed": false
   },
   "outputs": [
    {
     "name": "stdout",
     "output_type": "stream",
     "text": [
      "Enter number 1: 5\n",
      "Enter number 2: 3\n",
      "Maximum value is 5\n"
     ]
    }
   ],
   "source": [
    "def Max(a, b):\n",
    "    if a > b:\n",
    "        return a\n",
    "    else:\n",
    "        return b\n",
    "    \n",
    "num1 = int(input(\"Enter number 1: \"))\n",
    "num2 = int(input(\"Enter number 2: \"))\n",
    "\n",
    "print(\"Maximum value is\", Max(num1, num2))\n",
    "\n"
   ]
  },
  {
   "cell_type": "code",
   "execution_count": 11,
   "metadata": {
    "collapsed": false
   },
   "outputs": [
    {
     "name": "stdout",
     "output_type": "stream",
     "text": [
      "10\n",
      "30\n"
     ]
    }
   ],
   "source": [
    "def fun1(a, b):\n",
    "    x = a\n",
    "    y = b\n",
    "    global x1\n",
    "    x1 = 30\n",
    "    \n",
    "def fun2(p, q):\n",
    "    print(p, q)\n",
    "    \n",
    "x1, x2 = 10, 20\n",
    "print(x1)\n",
    "fun1(x1, x2)\n",
    "print(x1)"
   ]
  },
  {
   "cell_type": "code",
   "execution_count": 12,
   "metadata": {
    "collapsed": false
   },
   "outputs": [
    {
     "name": "stdout",
     "output_type": "stream",
     "text": [
      "Please enter the base: 12\n",
      "Please enter the height: 23\n",
      "The area is 138.0\n"
     ]
    }
   ],
   "source": [
    "def area(b, h):\n",
    "    return 1/2*(b*h)\n",
    "\n",
    "b = int(input(\"Please enter the base: \"))\n",
    "h = int(input(\"Please enter the height: \"))\n",
    "\n",
    "print(\"The area is\", area(b, h))"
   ]
  },
  {
   "cell_type": "code",
   "execution_count": 13,
   "metadata": {
    "collapsed": false
   },
   "outputs": [
    {
     "name": "stdout",
     "output_type": "stream",
     "text": [
      "[12, 43, 65, 54, 43, 43]\n",
      "3\n",
      "[12, 43, 65, 54, 43, 43, 100]\n"
     ]
    }
   ],
   "source": [
    "def Count(LIST, NUM):\n",
    "    c = 0\n",
    "    for i in LIST:\n",
    "        if NUM == i:\n",
    "            c += 1\n",
    "    LIST.append(100)\n",
    "    return c\n",
    "LIST_1 = [12, 43, 65, 54, 43, 43]\n",
    "print(LIST_1)\n",
    "print(Count(LIST_1, 43))\n",
    "print(LIST_1)            "
   ]
  }
 ],
 "metadata": {
  "kernelspec": {
   "display_name": "Python 3",
   "language": "python",
   "name": "python3"
  },
  "language_info": {
   "codemirror_mode": {
    "name": "ipython",
    "version": 3
   },
   "file_extension": ".py",
   "mimetype": "text/x-python",
   "name": "python",
   "nbconvert_exporter": "python",
   "pygments_lexer": "ipython3",
   "version": "3.5.1"
  }
 },
 "nbformat": 4,
 "nbformat_minor": 0
}
