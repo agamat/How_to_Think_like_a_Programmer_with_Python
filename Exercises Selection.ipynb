{
 "cells": [
  {
   "cell_type": "code",
   "execution_count": 32,
   "metadata": {
    "collapsed": false
   },
   "outputs": [
    {
     "name": "stdout",
     "output_type": "stream",
     "text": [
      "Operating System Books (option 1)\n",
      "Database Books (option 2)\n",
      "Software Engineering Books (option 3)\n",
      "Please enter an integer value:1\n",
      "You selected Operating System Books.\n"
     ]
    }
   ],
   "source": [
    "#Task No. 1\n",
    "\n",
    "#Display the following menu (using simple print command)\n",
    "\n",
    "#Operating System Books\n",
    "\n",
    "#Database Books\n",
    "\n",
    "#Software Engineering Books\n",
    "\n",
    "#Next, take an integer input from user. If user press 1 then display message \"You selected Operating System Books\" \n",
    "#and similarly if user press 2 then display the message \"You selected Database Books\" and so on.\n",
    "\n",
    "print(\"Operating System Books (option 1)\")\n",
    "print(\"Database Books (option 2)\")\n",
    "print(\"Software Engineering Books (option 3)\")\n",
    "\n",
    "book_type = int(input(\"Please enter an integer value:\"))\n",
    "\n",
    "if book_type == 1:\n",
    "    print(\"You selected Operating System Books.\")\n",
    "elif book_type > 1 and book_type == 2:\n",
    "    print(\"You selected Database Books.\")\n",
    "elif book_type > 2 and book_type == 3:\n",
    "    print(\"You selected Software Engineering Books.\")\n",
    "else:\n",
    "    print(\"Please enter a valid value!\")"
   ]
  },
  {
   "cell_type": "code",
   "execution_count": 36,
   "metadata": {
    "collapsed": false
   },
   "outputs": [
    {
     "name": "stdout",
     "output_type": "stream",
     "text": [
      "Please enter a temperature:78\n",
      "Hot day\n"
     ]
    }
   ],
   "source": [
    "#Task No. 2\n",
    "\n",
    "#Write a program that inputs temperature and displays a message as follows:\n",
    "\n",
    "#Temperature\n",
    "\n",
    "#Message\n",
    "\n",
    "#Greater than 35\n",
    "\n",
    "#Hot Day\n",
    "\n",
    "#Between 25 and 35 (inclusive)\n",
    "\n",
    "#Pleasant day\n",
    "\n",
    "#Less than 25\n",
    "\n",
    "#Cool day\n",
    "\n",
    "temp = int(input(\"Please enter a temperature:\"))\n",
    "\n",
    "if temp > 35:\n",
    "    print(\"Hot day\")\n",
    "elif temp > 25 and temp < 35:\n",
    "    print(\"Pleasant day\")\n",
    "elif temp < 25:\n",
    "    print(\"Cool day\")"
   ]
  },
  {
   "cell_type": "code",
   "execution_count": null,
   "metadata": {
    "collapsed": false
   },
   "outputs": [],
   "source": [
    "#Task No. 3\n",
    "\n",
    "#Suppose you have to write a program that can give access to some contents based on two criteria\n",
    "\n",
    "#1) Age\n",
    "\n",
    "#2) Maximum Experience\n",
    "\n",
    "#If the age is greater then 20 and less than 50 and if the maximum experience is not less than 3 \n",
    "#years then the person can access the information. You must use nested if else structure in this program.\n",
    "\n",
    "age = int(input(\"Please enter your age:\"))\n",
    "experience = int(input(\"Please enter your experience in years:\"))\n",
    "\n",
    "if age < 20 or age > 50:\n",
    "    print(\"Access denied!\")\n",
    "elif age >= 20 or age <= 50 and experience >= 3:\n",
    "    print(\"Access granted!\")\n",
    "else:\n",
    "    print(\"Please enter a valid value!\")"
   ]
  }
 ],
 "metadata": {
  "kernelspec": {
   "display_name": "Python 3",
   "language": "python",
   "name": "python3"
  },
  "language_info": {
   "codemirror_mode": {
    "name": "ipython",
    "version": 3
   },
   "file_extension": ".py",
   "mimetype": "text/x-python",
   "name": "python",
   "nbconvert_exporter": "python",
   "pygments_lexer": "ipython3",
   "version": "3.5.1"
  }
 },
 "nbformat": 4,
 "nbformat_minor": 0
}
