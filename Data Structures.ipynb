{
 "cells": [
  {
   "cell_type": "code",
   "execution_count": 2,
   "metadata": {
    "collapsed": false
   },
   "outputs": [
    {
     "data": {
      "text/plain": [
       "[10, 20, 30, 40]"
      ]
     },
     "execution_count": 2,
     "metadata": {},
     "output_type": "execute_result"
    }
   ],
   "source": [
    "# list basics\n",
    "mylist = [10, 20, 30, 40]\n",
    "mylist"
   ]
  },
  {
   "cell_type": "code",
   "execution_count": 4,
   "metadata": {
    "collapsed": false
   },
   "outputs": [
    {
     "data": {
      "text/plain": [
       "['Martin', 'john']"
      ]
     },
     "execution_count": 4,
     "metadata": {},
     "output_type": "execute_result"
    }
   ],
   "source": [
    "name = [\"Martin\", \"john\"]\n",
    "name"
   ]
  },
  {
   "cell_type": "code",
   "execution_count": 6,
   "metadata": {
    "collapsed": false
   },
   "outputs": [
    {
     "data": {
      "text/plain": [
       "['Martin', 2.56, 10, 'Male']"
      ]
     },
     "execution_count": 6,
     "metadata": {},
     "output_type": "execute_result"
    }
   ],
   "source": [
    "mixture = [\"Martin\", 2.56, 10, \"Male\"]\n",
    "mixture"
   ]
  },
  {
   "cell_type": "code",
   "execution_count": 22,
   "metadata": {
    "collapsed": false
   },
   "outputs": [
    {
     "data": {
      "text/plain": [
       "[]"
      ]
     },
     "execution_count": 22,
     "metadata": {},
     "output_type": "execute_result"
    }
   ],
   "source": [
    "a = []\n",
    "a"
   ]
  },
  {
   "cell_type": "code",
   "execution_count": 23,
   "metadata": {
    "collapsed": false
   },
   "outputs": [
    {
     "data": {
      "text/plain": [
       "[10]"
      ]
     },
     "execution_count": 23,
     "metadata": {},
     "output_type": "execute_result"
    }
   ],
   "source": [
    "a.append(10)\n",
    "a"
   ]
  },
  {
   "cell_type": "code",
   "execution_count": 24,
   "metadata": {
    "collapsed": true
   },
   "outputs": [],
   "source": [
    "a.append(20)"
   ]
  },
  {
   "cell_type": "code",
   "execution_count": 25,
   "metadata": {
    "collapsed": false
   },
   "outputs": [
    {
     "data": {
      "text/plain": [
       "[10, 20]"
      ]
     },
     "execution_count": 25,
     "metadata": {},
     "output_type": "execute_result"
    }
   ],
   "source": [
    "a"
   ]
  },
  {
   "cell_type": "code",
   "execution_count": 26,
   "metadata": {
    "collapsed": true
   },
   "outputs": [],
   "source": [
    "a.append(30)"
   ]
  },
  {
   "cell_type": "code",
   "execution_count": 27,
   "metadata": {
    "collapsed": false
   },
   "outputs": [
    {
     "data": {
      "text/plain": [
       "[10, 20, 30]"
      ]
     },
     "execution_count": 27,
     "metadata": {},
     "output_type": "execute_result"
    }
   ],
   "source": [
    "a"
   ]
  },
  {
   "cell_type": "code",
   "execution_count": 28,
   "metadata": {
    "collapsed": false
   },
   "outputs": [
    {
     "data": {
      "text/plain": [
       "10"
      ]
     },
     "execution_count": 28,
     "metadata": {},
     "output_type": "execute_result"
    }
   ],
   "source": [
    "a[0]"
   ]
  },
  {
   "cell_type": "code",
   "execution_count": 29,
   "metadata": {
    "collapsed": false
   },
   "outputs": [
    {
     "data": {
      "text/plain": [
       "20"
      ]
     },
     "execution_count": 29,
     "metadata": {},
     "output_type": "execute_result"
    }
   ],
   "source": [
    "a[1]"
   ]
  },
  {
   "cell_type": "code",
   "execution_count": 30,
   "metadata": {
    "collapsed": false
   },
   "outputs": [
    {
     "data": {
      "text/plain": [
       "30"
      ]
     },
     "execution_count": 30,
     "metadata": {},
     "output_type": "execute_result"
    }
   ],
   "source": [
    "a[2]"
   ]
  },
  {
   "cell_type": "code",
   "execution_count": 31,
   "metadata": {
    "collapsed": true
   },
   "outputs": [],
   "source": [
    "a.insert(1, 5)"
   ]
  },
  {
   "cell_type": "code",
   "execution_count": 32,
   "metadata": {
    "collapsed": false
   },
   "outputs": [
    {
     "data": {
      "text/plain": [
       "[10, 5, 20, 30]"
      ]
     },
     "execution_count": 32,
     "metadata": {},
     "output_type": "execute_result"
    }
   ],
   "source": [
    "a"
   ]
  },
  {
   "cell_type": "code",
   "execution_count": 33,
   "metadata": {
    "collapsed": true
   },
   "outputs": [],
   "source": [
    "a.extend([60, 70])"
   ]
  },
  {
   "cell_type": "code",
   "execution_count": 34,
   "metadata": {
    "collapsed": false
   },
   "outputs": [
    {
     "data": {
      "text/plain": [
       "[10, 5, 20, 30, 60, 70]"
      ]
     },
     "execution_count": 34,
     "metadata": {},
     "output_type": "execute_result"
    }
   ],
   "source": [
    "a"
   ]
  },
  {
   "cell_type": "code",
   "execution_count": 35,
   "metadata": {
    "collapsed": true
   },
   "outputs": [],
   "source": [
    "x = [100, 200, 300]"
   ]
  },
  {
   "cell_type": "code",
   "execution_count": 36,
   "metadata": {
    "collapsed": true
   },
   "outputs": [],
   "source": [
    "a.extend(x)"
   ]
  },
  {
   "cell_type": "code",
   "execution_count": 37,
   "metadata": {
    "collapsed": false
   },
   "outputs": [
    {
     "data": {
      "text/plain": [
       "[10, 5, 20, 30, 60, 70, 100, 200, 300]"
      ]
     },
     "execution_count": 37,
     "metadata": {},
     "output_type": "execute_result"
    }
   ],
   "source": [
    "a"
   ]
  },
  {
   "cell_type": "code",
   "execution_count": 40,
   "metadata": {
    "collapsed": false
   },
   "outputs": [
    {
     "data": {
      "text/plain": [
       "[10, 20, 100, 40]"
      ]
     },
     "execution_count": 40,
     "metadata": {},
     "output_type": "execute_result"
    }
   ],
   "source": [
    "mylist = [10, 20, 30 , 40]\n",
    "mylist[2] = 100\n",
    "mylist"
   ]
  },
  {
   "cell_type": "code",
   "execution_count": 41,
   "metadata": {
    "collapsed": false
   },
   "outputs": [
    {
     "data": {
      "text/plain": [
       "[10, 5]"
      ]
     },
     "execution_count": 41,
     "metadata": {},
     "output_type": "execute_result"
    }
   ],
   "source": [
    "a[0:2]"
   ]
  },
  {
   "cell_type": "code",
   "execution_count": 43,
   "metadata": {
    "collapsed": false
   },
   "outputs": [
    {
     "data": {
      "text/plain": [
       "[10, 5]"
      ]
     },
     "execution_count": 43,
     "metadata": {},
     "output_type": "execute_result"
    }
   ],
   "source": [
    "p = a[0:2]\n",
    "p"
   ]
  },
  {
   "cell_type": "code",
   "execution_count": 45,
   "metadata": {
    "collapsed": false
   },
   "outputs": [
    {
     "data": {
      "text/plain": [
       "[40, 50, 60, 70]"
      ]
     },
     "execution_count": 45,
     "metadata": {},
     "output_type": "execute_result"
    }
   ],
   "source": [
    "b = [10, 20, 30 , 40, 50, 60 , 70]\n",
    "b[3:]"
   ]
  },
  {
   "cell_type": "code",
   "execution_count": 46,
   "metadata": {
    "collapsed": false
   },
   "outputs": [
    {
     "data": {
      "text/plain": [
       "[10, 20, 30, 40]"
      ]
     },
     "execution_count": 46,
     "metadata": {},
     "output_type": "execute_result"
    }
   ],
   "source": [
    "b[:4]"
   ]
  },
  {
   "cell_type": "code",
   "execution_count": 47,
   "metadata": {
    "collapsed": false
   },
   "outputs": [
    {
     "data": {
      "text/plain": [
       "[10, 20, 30, 40, 50, 60, 70]"
      ]
     },
     "execution_count": 47,
     "metadata": {},
     "output_type": "execute_result"
    }
   ],
   "source": [
    "b[:]"
   ]
  },
  {
   "cell_type": "code",
   "execution_count": 48,
   "metadata": {
    "collapsed": false
   },
   "outputs": [
    {
     "data": {
      "text/plain": [
       "[10, 5, 20, 30, 60, 70, 100, 200, 300]"
      ]
     },
     "execution_count": 48,
     "metadata": {},
     "output_type": "execute_result"
    }
   ],
   "source": [
    "a"
   ]
  },
  {
   "cell_type": "code",
   "execution_count": 49,
   "metadata": {
    "collapsed": true
   },
   "outputs": [],
   "source": [
    "b = a"
   ]
  },
  {
   "cell_type": "code",
   "execution_count": 50,
   "metadata": {
    "collapsed": false
   },
   "outputs": [
    {
     "data": {
      "text/plain": [
       "[10, 5, 20, 30, 60, 70, 100, 200, 300]"
      ]
     },
     "execution_count": 50,
     "metadata": {},
     "output_type": "execute_result"
    }
   ],
   "source": [
    "b"
   ]
  },
  {
   "cell_type": "code",
   "execution_count": 51,
   "metadata": {
    "collapsed": false
   },
   "outputs": [
    {
     "data": {
      "text/plain": [
       "[10, 5, 20, 30, 60, 70, 100, 200, 300]"
      ]
     },
     "execution_count": 51,
     "metadata": {},
     "output_type": "execute_result"
    }
   ],
   "source": [
    "a"
   ]
  },
  {
   "cell_type": "code",
   "execution_count": 53,
   "metadata": {
    "collapsed": false
   },
   "outputs": [
    {
     "data": {
      "text/plain": [
       "[10, 5, 20, 30, 60, 70, 100, 200, 300, 100, 100]"
      ]
     },
     "execution_count": 53,
     "metadata": {},
     "output_type": "execute_result"
    }
   ],
   "source": [
    "a.append(100)\n",
    "a"
   ]
  },
  {
   "cell_type": "code",
   "execution_count": 54,
   "metadata": {
    "collapsed": false
   },
   "outputs": [
    {
     "data": {
      "text/plain": [
       "[10, 5, 20, 30, 60, 70, 100, 200, 300, 100, 100]"
      ]
     },
     "execution_count": 54,
     "metadata": {},
     "output_type": "execute_result"
    }
   ],
   "source": [
    "b"
   ]
  },
  {
   "cell_type": "code",
   "execution_count": 56,
   "metadata": {
    "collapsed": false
   },
   "outputs": [
    {
     "data": {
      "text/plain": [
       "[10, 5, 20, 30, 60, 70, 100, 200, 300, 100, 100]"
      ]
     },
     "execution_count": 56,
     "metadata": {},
     "output_type": "execute_result"
    }
   ],
   "source": [
    "b = a[:]\n",
    "b"
   ]
  },
  {
   "cell_type": "code",
   "execution_count": 57,
   "metadata": {
    "collapsed": false
   },
   "outputs": [
    {
     "data": {
      "text/plain": [
       "[10, 5, 20, 30, 60, 70, 100, 200, 300, 100, 100, 200]"
      ]
     },
     "execution_count": 57,
     "metadata": {},
     "output_type": "execute_result"
    }
   ],
   "source": [
    "b.append(200)\n",
    "b"
   ]
  },
  {
   "cell_type": "code",
   "execution_count": 58,
   "metadata": {
    "collapsed": false
   },
   "outputs": [
    {
     "data": {
      "text/plain": [
       "[10, 5, 20, 30, 60, 70, 100, 200, 300, 100, 100]"
      ]
     },
     "execution_count": 58,
     "metadata": {},
     "output_type": "execute_result"
    }
   ],
   "source": [
    "a"
   ]
  },
  {
   "cell_type": "code",
   "execution_count": 69,
   "metadata": {
    "collapsed": false
   },
   "outputs": [
    {
     "data": {
      "text/plain": [
       "['Martin', 'Peter', 'John', 'Paul']"
      ]
     },
     "execution_count": 69,
     "metadata": {},
     "output_type": "execute_result"
    }
   ],
   "source": [
    "myList = [\"Martin\", \"Peter\", \"John\", \"Paul\"]\n",
    "myList"
   ]
  },
  {
   "cell_type": "code",
   "execution_count": 70,
   "metadata": {
    "collapsed": false
   },
   "outputs": [
    {
     "data": {
      "text/plain": [
       "['Martin', 'Peter', 'Paul']"
      ]
     },
     "execution_count": 70,
     "metadata": {},
     "output_type": "execute_result"
    }
   ],
   "source": [
    "del myList[2]\n",
    "myList"
   ]
  },
  {
   "cell_type": "code",
   "execution_count": 71,
   "metadata": {
    "collapsed": true
   },
   "outputs": [],
   "source": [
    "myList.remove(\"Martin\")"
   ]
  },
  {
   "cell_type": "code",
   "execution_count": 72,
   "metadata": {
    "collapsed": false
   },
   "outputs": [
    {
     "data": {
      "text/plain": [
       "['Peter', 'Paul']"
      ]
     },
     "execution_count": 72,
     "metadata": {},
     "output_type": "execute_result"
    }
   ],
   "source": [
    "myList"
   ]
  },
  {
   "cell_type": "code",
   "execution_count": 74,
   "metadata": {
    "collapsed": false
   },
   "outputs": [
    {
     "data": {
      "text/plain": [
       "[]"
      ]
     },
     "execution_count": 74,
     "metadata": {},
     "output_type": "execute_result"
    }
   ],
   "source": [
    "myList.pop()\n",
    "myList"
   ]
  },
  {
   "cell_type": "code",
   "execution_count": 76,
   "metadata": {
    "collapsed": false
   },
   "outputs": [
    {
     "name": "stdout",
     "output_type": "stream",
     "text": [
      "12\n",
      "23\n",
      "34\n",
      "45\n",
      "56\n",
      "67\n"
     ]
    }
   ],
   "source": [
    "a = [12, 23, 34, 45, 56, 67]\n",
    "for i in a:\n",
    "    print(i)"
   ]
  },
  {
   "cell_type": "code",
   "execution_count": 77,
   "metadata": {
    "collapsed": false
   },
   "outputs": [
    {
     "name": "stdout",
     "output_type": "stream",
     "text": [
      "12\n",
      "23\n",
      "34\n",
      "56\n"
     ]
    }
   ],
   "source": [
    "for i in [12, 23, 34, 56]:\n",
    "    print(i)"
   ]
  },
  {
   "cell_type": "code",
   "execution_count": 79,
   "metadata": {
    "collapsed": false
   },
   "outputs": [
    {
     "name": "stdout",
     "output_type": "stream",
     "text": [
      "12\n",
      "23\n",
      "34\n",
      "45\n",
      "56\n"
     ]
    }
   ],
   "source": [
    "a\n",
    "for i in range(5):\n",
    "    print(a[i])"
   ]
  },
  {
   "cell_type": "code",
   "execution_count": 80,
   "metadata": {
    "collapsed": false
   },
   "outputs": [
    {
     "name": "stdout",
     "output_type": "stream",
     "text": [
      "12\n",
      "23\n",
      "34\n",
      "45\n",
      "56\n",
      "67\n"
     ]
    }
   ],
   "source": [
    "for i in range(len(a)):\n",
    "    print(a[i])"
   ]
  },
  {
   "cell_type": "code",
   "execution_count": 81,
   "metadata": {
    "collapsed": false
   },
   "outputs": [
    {
     "data": {
      "text/plain": [
       "[12, 23, 34, 45, 56, 67]"
      ]
     },
     "execution_count": 81,
     "metadata": {},
     "output_type": "execute_result"
    }
   ],
   "source": [
    "a"
   ]
  },
  {
   "cell_type": "code",
   "execution_count": 82,
   "metadata": {
    "collapsed": false
   },
   "outputs": [
    {
     "data": {
      "text/plain": [
       "True"
      ]
     },
     "execution_count": 82,
     "metadata": {},
     "output_type": "execute_result"
    }
   ],
   "source": [
    "34 in a"
   ]
  },
  {
   "cell_type": "code",
   "execution_count": 83,
   "metadata": {
    "collapsed": false
   },
   "outputs": [
    {
     "data": {
      "text/plain": [
       "False"
      ]
     },
     "execution_count": 83,
     "metadata": {},
     "output_type": "execute_result"
    }
   ],
   "source": [
    "100 in a"
   ]
  },
  {
   "cell_type": "code",
   "execution_count": 84,
   "metadata": {
    "collapsed": false
   },
   "outputs": [
    {
     "data": {
      "text/plain": [
       "3"
      ]
     },
     "execution_count": 84,
     "metadata": {},
     "output_type": "execute_result"
    }
   ],
   "source": [
    "a.index(45)"
   ]
  },
  {
   "cell_type": "code",
   "execution_count": 86,
   "metadata": {
    "collapsed": false
   },
   "outputs": [
    {
     "data": {
      "text/plain": [
       "[12, 23, 34, 45, 56, 67]"
      ]
     },
     "execution_count": 86,
     "metadata": {},
     "output_type": "execute_result"
    }
   ],
   "source": [
    "a"
   ]
  },
  {
   "cell_type": "code",
   "execution_count": 88,
   "metadata": {
    "collapsed": false
   },
   "outputs": [
    {
     "data": {
      "text/plain": [
       "[12, 23, 34, 45, 56, 67]"
      ]
     },
     "execution_count": 88,
     "metadata": {},
     "output_type": "execute_result"
    }
   ],
   "source": [
    "a.sort()\n",
    "a"
   ]
  },
  {
   "cell_type": "code",
   "execution_count": 91,
   "metadata": {
    "collapsed": false
   },
   "outputs": [
    {
     "data": {
      "text/plain": [
       "['Martin', 'john']"
      ]
     },
     "execution_count": 91,
     "metadata": {},
     "output_type": "execute_result"
    }
   ],
   "source": [
    "name.sort()\n",
    "name"
   ]
  },
  {
   "cell_type": "code",
   "execution_count": 98,
   "metadata": {
    "collapsed": false
   },
   "outputs": [
    {
     "data": {
      "text/plain": [
       "[12, 23, 34, 45, 56, 67]"
      ]
     },
     "execution_count": 98,
     "metadata": {},
     "output_type": "execute_result"
    }
   ],
   "source": [
    "a"
   ]
  },
  {
   "cell_type": "code",
   "execution_count": 99,
   "metadata": {
    "collapsed": false
   },
   "outputs": [],
   "source": [
    "a.reverse()"
   ]
  },
  {
   "cell_type": "code",
   "execution_count": 100,
   "metadata": {
    "collapsed": false
   },
   "outputs": [
    {
     "data": {
      "text/plain": [
       "[67, 56, 45, 34, 23, 12]"
      ]
     },
     "execution_count": 100,
     "metadata": {},
     "output_type": "execute_result"
    }
   ],
   "source": [
    "a"
   ]
  },
  {
   "cell_type": "code",
   "execution_count": 101,
   "metadata": {
    "collapsed": false
   },
   "outputs": [
    {
     "data": {
      "text/plain": [
       "12"
      ]
     },
     "execution_count": 101,
     "metadata": {},
     "output_type": "execute_result"
    }
   ],
   "source": [
    "min(a)"
   ]
  },
  {
   "cell_type": "code",
   "execution_count": 102,
   "metadata": {
    "collapsed": false
   },
   "outputs": [
    {
     "data": {
      "text/plain": [
       "67"
      ]
     },
     "execution_count": 102,
     "metadata": {},
     "output_type": "execute_result"
    }
   ],
   "source": [
    "max(a)"
   ]
  },
  {
   "cell_type": "code",
   "execution_count": 104,
   "metadata": {
    "collapsed": false
   },
   "outputs": [
    {
     "data": {
      "text/plain": [
       "0"
      ]
     },
     "execution_count": 104,
     "metadata": {},
     "output_type": "execute_result"
    }
   ],
   "source": [
    "b.count(12)"
   ]
  },
  {
   "cell_type": "code",
   "execution_count": null,
   "metadata": {
    "collapsed": false
   },
   "outputs": [
    {
     "name": "stdout",
     "output_type": "stream",
     "text": [
      "Enter value10\n",
      "Enter value20\n",
      "Enter value30\n"
     ]
    }
   ],
   "source": [
    "# collecting integers together\n",
    "intList = []\n",
    "for i in range(5):\n",
    "    num = int(input(\"Enter value\"))\n",
    "    intList.append(num)\n",
    "    \n",
    "for j in range(5):\n",
    "    print(j)"
   ]
  },
  {
   "cell_type": "code",
   "execution_count": null,
   "metadata": {
    "collapsed": false
   },
   "outputs": [],
   "source": [
    "# counting and averaging integers\n",
    "intList = []\n",
    "for i in range(5):\n",
    "    intList.append(int(input(\"Enter value: \")))\n",
    "\n",
    "sum = 0\n",
    "\n",
    "for j in range(5):\n",
    "    sum = sum + intList[j]\n",
    "\n",
    "print(\"Sum is \", sum)\n",
    "print(\"Average is \", sum/5)"
   ]
  },
  {
   "cell_type": "code",
   "execution_count": 1,
   "metadata": {
    "collapsed": true
   },
   "outputs": [],
   "source": [
    "a = [10, 43, 76, 98, 43, 100]"
   ]
  },
  {
   "cell_type": "code",
   "execution_count": 4,
   "metadata": {
    "collapsed": false
   },
   "outputs": [
    {
     "name": "stdout",
     "output_type": "stream",
     "text": [
      "[85, 6, 17, 72, 88, 55, 74, 90, 21, 100]\n",
      "maximum value is  100\n"
     ]
    }
   ],
   "source": [
    "import random \n",
    "intList = []\n",
    "\n",
    "for i in range(10):\n",
    "    intList.append(random.randint(1, 100))\n",
    "    \n",
    "max = intList[0]\n",
    "\n",
    "print(intList)\n",
    "\n",
    "for j in range(1, 10):\n",
    "    if intList[j] > max:\n",
    "        max = intList[j]\n",
    "    \n",
    "print(\"maximum value is \", max)"
   ]
  },
  {
   "cell_type": "code",
   "execution_count": 6,
   "metadata": {
    "collapsed": false
   },
   "outputs": [
    {
     "name": "stdout",
     "output_type": "stream",
     "text": [
      "Please enter the month: 4\n",
      "Please enter the day: 12\n",
      "Total days until the day/month is 102\n"
     ]
    }
   ],
   "source": [
    "# Calculate Total Days\n",
    "days = [31, 28, 31, 30, 31, 30, 31, 31, 30, 30, 31, 30, 31]\n",
    "month = int(input(\"Please enter the month: \"))\n",
    "day = int(input(\"Please enter the day: \"))\n",
    "\n",
    "total = day \n",
    "\n",
    "for i in range(month - 1):\n",
    "    total += days[i]\n",
    "    \n",
    "print(\"Total days until the day/month is\", total)\n"
   ]
  },
  {
   "cell_type": "code",
   "execution_count": 1,
   "metadata": {
    "collapsed": false
   },
   "outputs": [
    {
     "name": "stdout",
     "output_type": "stream",
     "text": [
      "-------------------------\n",
      "Student Management System\n",
      "-------------------------\n",
      "1. Add a student\n",
      "2. Delete a student\n",
      "3. Search a student \n",
      "4. Update a student\n",
      "5. Display the student\n",
      "6. Exit\n",
      "Please enter the option: 1\n",
      "Please enter the student name: Martin\n",
      "Student Added Successfully\n",
      "do you want to continue(y/n)?y\n",
      "-------------------------\n",
      "Student Management System\n",
      "-------------------------\n",
      "1. Add a student\n",
      "2. Delete a student\n",
      "3. Search a student \n",
      "4. Update a student\n",
      "5. Display the student\n",
      "6. Exit\n",
      "Please enter the option: 1\n",
      "Please enter the student name: John\n",
      "Student Added Successfully\n",
      "do you want to continue(y/n)?y\n",
      "-------------------------\n",
      "Student Management System\n",
      "-------------------------\n",
      "1. Add a student\n",
      "2. Delete a student\n",
      "3. Search a student \n",
      "4. Update a student\n",
      "5. Display the student\n",
      "6. Exit\n",
      "Please enter the option: 5\n",
      "['Martin', 'John']\n",
      "do you want to continue(y/n)?n\n"
     ]
    }
   ],
   "source": [
    "# Student management system revisited\n",
    "student = []\n",
    "while True:\n",
    "    print(\"-\" * 25)\n",
    "    print(\"Student Management System\")\n",
    "    print(\"-\" * 25)\n",
    "    print(\"1. Add a student\\n2. Delete a student\\n3. Search a student \"\n",
    "          \"\\n4. Update a student\\n5. Display the student\\n6. Exit\")\n",
    "    \n",
    "    option = int(input(\"Please enter the option: \"))\n",
    "    \n",
    "    if option == 1:\n",
    "        name = input(\"Please enter the student name: \")\n",
    "        student.append(name)\n",
    "        print(\"Student Added Successfully\")\n",
    "    elif option == 2:\n",
    "        name = input(\"Please enter the name of the student that you want to delete: \")\n",
    "        student.remove(name)\n",
    "        print(\"Student Deleted Successfully\")\n",
    "    elif option == 3:\n",
    "        index = student.index(name)\n",
    "        print(\"Record Found Successfully\", index)\n",
    "    elif option == 4:\n",
    "        name = input(\"Please enter the student name that you want to update: \")\n",
    "        index = student.index(name)\n",
    "        new_name = input(\"Enter the new name of the student: \")\n",
    "        student[index] = new_name\n",
    "    elif option == 5:\n",
    "        print(student)\n",
    "    elif option == 6:\n",
    "        print(\"Exit\")\n",
    "    else:\n",
    "        print(\"Invalid option\")\n",
    "        \n",
    "    choice = input(\"do you want to continue(y/n)?\")\n",
    "    \n",
    "    if choice == 'Y' or choice == 'y':\n",
    "        continue\n",
    "    else:\n",
    "        break\n",
    "    print(\"Thank-you! See you  soon!\")"
   ]
  },
  {
   "cell_type": "code",
   "execution_count": 4,
   "metadata": {
    "collapsed": false
   },
   "outputs": [
    {
     "name": "stdout",
     "output_type": "stream",
     "text": [
      "1. Insert an element in the stack\n",
      "2. Remove an element from the stack\n",
      "3. Display elements in the stack\n",
      "4. Exit\n",
      "Enter your choice: 1\n",
      "Please enter element: 100\n",
      "100 inserted successfully\n",
      "Do you want to continue?(y/n): y\n",
      "1. Insert an element in the stack\n",
      "2. Remove an element from the stack\n",
      "3. Display elements in the stack\n",
      "4. Exit\n",
      "Enter your choice: 1\n",
      "Please enter element: 200\n",
      "200 inserted successfully\n",
      "Do you want to continue?(y/n): y\n",
      "1. Insert an element in the stack\n",
      "2. Remove an element from the stack\n",
      "3. Display elements in the stack\n",
      "4. Exit\n",
      "Enter your choice: 3\n",
      "200\n",
      "100\n",
      "Do you want to continue?(y/n): n\n",
      "Thank-you! See you soon!\n"
     ]
    }
   ],
   "source": [
    "# Using lists as stacks\n",
    "stack = []\n",
    "while True:\n",
    "    print(\"1. Insert an element in the stack\")\n",
    "    print(\"2. Remove an element from the stack\")\n",
    "    print(\"3. Display elements in the stack\")\n",
    "    print(\"4. Exit\")\n",
    "    \n",
    "    choice = int(input(\"Enter your choice: \"))\n",
    "    \n",
    "    if choice == 1:\n",
    "        if len(stack) == 5:\n",
    "            print(\"Sorry, stack is already full\")\n",
    "        else:\n",
    "            element = int(input(\"Please enter element: \"))\n",
    "            stack.append(element)\n",
    "            print(element, \"inserted successfully\")\n",
    "    elif choice == 2:\n",
    "        if len(stack) == 0:\n",
    "            print(\"Sorry your stack is already empty\")\n",
    "        else:\n",
    "            element.stack.pop()\n",
    "            print(element, \"was removed successfully\")\n",
    "    elif choice == 3:\n",
    "        for i in range(len(stack)-1, -1, -1):\n",
    "            print(stack[i])\n",
    "    elif choice == 4:\n",
    "        print(\"Thank-you! See you soon!\")\n",
    "        break\n",
    "    else:\n",
    "        print(\"Invalid option\")\n",
    "    \n",
    "    more = input(\"Do you want to continue?(y/n): \")\n",
    "    \n",
    "    if more == \"Y\" or more == \"y\":\n",
    "        continue\n",
    "    else:\n",
    "        print(\"Thank-you! See you soon!\")\n",
    "        break"
   ]
  },
  {
   "cell_type": "code",
   "execution_count": 4,
   "metadata": {
    "collapsed": false
   },
   "outputs": [
    {
     "name": "stdout",
     "output_type": "stream",
     "text": [
      "1. Insert an element in the queue\n",
      "2. Remove an element from the queue\n",
      "3. Display elements in the queue\n",
      "4. Exit\n",
      "Enter your choice: 3\n",
      "10 20 30 Do you want to continue?(y/n): y\n",
      "1. Insert an element in the queue\n",
      "2. Remove an element from the queue\n",
      "3. Display elements in the queue\n",
      "4. Exit\n",
      "Enter your choice: 1\n",
      "Please enter element: 50\n",
      "50 inserted successfully\n",
      "Do you want to continue?(y/n): y\n",
      "1. Insert an element in the queue\n",
      "2. Remove an element from the queue\n",
      "3. Display elements in the queue\n",
      "4. Exit\n",
      "Enter your choice: 3\n",
      "10 20 30 50 Do you want to continue?(y/n): y\n",
      "1. Insert an element in the queue\n",
      "2. Remove an element from the queue\n",
      "3. Display elements in the queue\n",
      "4. Exit\n",
      "Enter your choice: 2\n",
      "10 was removed successfully\n",
      "Do you want to continue?(y/n): 4\n",
      "Thank-you! See you soon!\n"
     ]
    }
   ],
   "source": [
    "# Using lists as queues\n",
    "from collections import deque\n",
    "queue = deque(['10', '20', '30'])\n",
    "while True:\n",
    "    print(\"1. Insert an element in the queue\")\n",
    "    print(\"2. Remove an element from the queue\")\n",
    "    print(\"3. Display elements in the queue\")\n",
    "    print(\"4. Exit\")\n",
    "    \n",
    "    choice = int(input(\"Enter your choice: \"))\n",
    "    \n",
    "    if choice == 1:\n",
    "        if len(queue) == 5:\n",
    "            print(\"Sorry, queue is already full\")\n",
    "        else:\n",
    "            element = int(input(\"Please enter element: \"))\n",
    "            queue.append(element)\n",
    "            print(element, \"inserted successfully\")\n",
    "    elif choice == 2:\n",
    "        if len(queue) == 0:\n",
    "            print(\"Sorry your queue is already empty\")\n",
    "        else:\n",
    "            element = queue.popleft()\n",
    "            print(element, \"was removed successfully\")\n",
    "    elif choice == 3:\n",
    "        for i in queue:\n",
    "            print(i, end = ' ')\n",
    "    elif choice == 4:\n",
    "        print(\"Thank-you! See you soon!\")\n",
    "        break\n",
    "    else:\n",
    "        print(\"Invalid option\")\n",
    "    \n",
    "    more = input(\"Do you want to continue?(y/n): \")\n",
    "    \n",
    "    if more == \"Y\" or more == \"y\":\n",
    "        continue\n",
    "    else:\n",
    "        print(\"Thank-you! See you soon!\")\n",
    "        break"
   ]
  },
  {
   "cell_type": "code",
   "execution_count": 5,
   "metadata": {
    "collapsed": false
   },
   "outputs": [
    {
     "name": "stdout",
     "output_type": "stream",
     "text": [
      "Please enter the key that you want to search: 40\n",
      "Value found at 3\n"
     ]
    }
   ],
   "source": [
    "# linear search\n",
    "myList = [10, 20, 30, 40, 50, 60, 70, 80, 90, 100]\n",
    "LOC = -1\n",
    "key = int(input(\"Please enter the key that you want to search: \"))\n",
    "for i in range(len(myList)):\n",
    "    if key == myList[i]:\n",
    "        LOC = i\n",
    "        break\n",
    "        \n",
    "if LOC == -1:\n",
    "    print(\"Sorry, no value found\")\n",
    "else:\n",
    "    print(\"Value found at\", LOC)"
   ]
  },
  {
   "cell_type": "code",
   "execution_count": 8,
   "metadata": {
    "collapsed": false
   },
   "outputs": [
    {
     "name": "stdout",
     "output_type": "stream",
     "text": [
      "Please enter the key: 100\n",
      "Nothing was found\n"
     ]
    }
   ],
   "source": [
    "# Binary search\n",
    "DATA = [11, 22, 30, 33, 40, 44, 55, 60, 66, 77, 80, 88, 99]\n",
    "LOC = -1\n",
    "key = int(input(\"Please enter the key: \"))\n",
    "L, U = 0, len(DATA) - 1\n",
    "MID = (L + U) // 2\n",
    "while L <= U and DATA[MID] != key:\n",
    "    if key < DATA[MID]:\n",
    "        U = MID - 1\n",
    "    else:\n",
    "        L = MID + 1\n",
    "        \n",
    "    MID = (L + U) // 2\n",
    "if DATA[MID] == key:\n",
    "    LOC = MID\n",
    "    print(\"Value found at\", LOC)\n",
    "else:\n",
    "    print(\"Nothing was found\")  "
   ]
  },
  {
   "cell_type": "code",
   "execution_count": 10,
   "metadata": {
    "collapsed": false
   },
   "outputs": [
    {
     "name": "stdout",
     "output_type": "stream",
     "text": [
      "Before sorting [12, 43, 21, 9, 54, 23, 6, 87, 67, 55]\n",
      "After sorting [6, 9, 12, 21, 23, 43, 54, 55, 67, 87]\n"
     ]
    }
   ],
   "source": [
    "# Bubble sort\n",
    "LIST = [12, 43, 21, 9, 54, 23, 6, 87, 67, 55]\n",
    "N = len(LIST)\n",
    "print(\"Before sorting\", LIST)\n",
    "for k in range(1, N):\n",
    "    for j in range(N - k):\n",
    "        if LIST[j] > LIST[j+1]:\n",
    "            temp = LIST[j]\n",
    "            LIST[j] = LIST[j+1]\n",
    "            LIST[j+1] = temp\n",
    "        \n",
    "        \n",
    "print(\"After sorting\", LIST)"
   ]
  },
  {
   "cell_type": "code",
   "execution_count": 19,
   "metadata": {
    "collapsed": false
   },
   "outputs": [
    {
     "data": {
      "text/plain": [
       "76"
      ]
     },
     "execution_count": 19,
     "metadata": {},
     "output_type": "execute_result"
    }
   ],
   "source": [
    "# Two dimensional list\n",
    "marks = []\n",
    "marks_of_john = [55, 67, 78, 66, 89]\n",
    "marks_of_ann = [43, 76, 54, 87, 90]\n",
    "marks_of_bill = [77, 65, 76, 87, 90]\n",
    "marks_of_eve = [65, 76, 87, 55, 77]\n",
    "marks_of_rick = [65, 98, 45, 65, 88]\n",
    "marks.append(marks_of_bill)\n",
    "marks\n",
    "marks.append(marks_of_ann)\n",
    "marks.append(marks_of_eve)\n",
    "marks.append(marks_of_john)\n",
    "marks.append(marks_of_rick)\n",
    "marks\n",
    "marks[2][1]"
   ]
  },
  {
   "cell_type": "code",
   "execution_count": 26,
   "metadata": {
    "collapsed": false
   },
   "outputs": [
    {
     "name": "stdout",
     "output_type": "stream",
     "text": [
      "[1, 2, 3]\n",
      "[4, 5, 6]\n",
      "[7, 8, 9]\n"
     ]
    }
   ],
   "source": [
    "matrix = [[1,2,3],[4,5,6],[7,8,9]]\n",
    "for i in matrix:\n",
    "    print(i)"
   ]
  },
  {
   "cell_type": "code",
   "execution_count": 27,
   "metadata": {
    "collapsed": false
   },
   "outputs": [],
   "source": [
    "matrix.remove([7,8,9])"
   ]
  },
  {
   "cell_type": "code",
   "execution_count": 28,
   "metadata": {
    "collapsed": false
   },
   "outputs": [
    {
     "data": {
      "text/plain": [
       "[[1, 2, 3], [4, 5, 6]]"
      ]
     },
     "execution_count": 28,
     "metadata": {},
     "output_type": "execute_result"
    }
   ],
   "source": [
    "matrix"
   ]
  },
  {
   "cell_type": "code",
   "execution_count": 32,
   "metadata": {
    "collapsed": false
   },
   "outputs": [
    {
     "data": {
      "text/plain": [
       "[0, 1, 2, 3, 4, 5, 6, 7, 8, 9]"
      ]
     },
     "execution_count": 32,
     "metadata": {},
     "output_type": "execute_result"
    }
   ],
   "source": [
    "# List comprehension\n",
    "LIST = [i for i in range(10)]\n",
    "LIST"
   ]
  },
  {
   "cell_type": "code",
   "execution_count": 34,
   "metadata": {
    "collapsed": false
   },
   "outputs": [
    {
     "data": {
      "text/plain": [
       "[0, 2, 4, 6, 8, 10, 12, 14, 16, 18, 20]"
      ]
     },
     "execution_count": 34,
     "metadata": {},
     "output_type": "execute_result"
    }
   ],
   "source": [
    "y = [i for i in range(21) if i%2 == 0]\n",
    "y"
   ]
  },
  {
   "cell_type": "code",
   "execution_count": 36,
   "metadata": {
    "collapsed": false
   },
   "outputs": [
    {
     "data": {
      "text/plain": [
       "[0, 1, 4, 9, 16, 25, 36, 49, 64, 81, 100]"
      ]
     },
     "execution_count": 36,
     "metadata": {},
     "output_type": "execute_result"
    }
   ],
   "source": [
    "squares = [i**2 for i in range(11)]\n",
    "squares"
   ]
  },
  {
   "cell_type": "code",
   "execution_count": 38,
   "metadata": {
    "collapsed": false
   },
   "outputs": [
    {
     "data": {
      "text/plain": [
       "[2, 4, 6, 8, 10, 12, 14, 16, 18, 20]"
      ]
     },
     "execution_count": 38,
     "metadata": {},
     "output_type": "execute_result"
    }
   ],
   "source": [
    "N = [i * 2 for i in range(1, 11)]\n",
    "N"
   ]
  },
  {
   "cell_type": "code",
   "execution_count": 40,
   "metadata": {
    "collapsed": false
   },
   "outputs": [
    {
     "data": {
      "text/plain": [
       "[[0, 0, 0], [0, 0, 0], [0, 0, 0]]"
      ]
     },
     "execution_count": 40,
     "metadata": {},
     "output_type": "execute_result"
    }
   ],
   "source": [
    "List = [[0] * 3 for i in range(3)]\n",
    "List"
   ]
  },
  {
   "cell_type": "code",
   "execution_count": 41,
   "metadata": {
    "collapsed": false
   },
   "outputs": [
    {
     "data": {
      "text/plain": [
       "[[0, 0, 0], [0, 0, 0], [0, 0, 0], [0, 0, 0], [0, 0, 0]]"
      ]
     },
     "execution_count": 41,
     "metadata": {},
     "output_type": "execute_result"
    }
   ],
   "source": [
    "twoDList = [[0] * 3 for i in range(5)]\n",
    "twoDList"
   ]
  },
  {
   "cell_type": "code",
   "execution_count": 45,
   "metadata": {
    "collapsed": false
   },
   "outputs": [
    {
     "name": "stdout",
     "output_type": "stream",
     "text": [
      "10 20 30 \n",
      "11 12 13 \n",
      "6 7 4 \n"
     ]
    }
   ],
   "source": [
    "# Loading and traversing a 2D list\n",
    "List = [[0]*3 for i in range(3)]\n",
    "List[0][0] = 10\n",
    "List[0][1] = 20\n",
    "List[0][2] = 30\n",
    "List[1][0] = 11\n",
    "List[1][1] = 12\n",
    "List[1][2] = 13\n",
    "List[2][0] = 6\n",
    "List[2][1] = 7\n",
    "List[2][2] = 4\n",
    "\n",
    "for row in List:\n",
    "    for j in row:\n",
    "        print(j, end=\" \")\n",
    "    print()"
   ]
  },
  {
   "cell_type": "code",
   "execution_count": 46,
   "metadata": {
    "collapsed": false
   },
   "outputs": [
    {
     "name": "stdout",
     "output_type": "stream",
     "text": [
      "Please enter the value: 45\n",
      "Please enter the value: 23\n",
      "Please enter the value: 4\n",
      "Please enter the value: 5\n",
      "Please enter the value: 6\n",
      "Please enter the value: 7\n",
      "Please enter the value: 5\n",
      "Please enter the value: 6\n",
      "Please enter the value: 4\n",
      "45 23 4 \n",
      "5 6 7 \n",
      "5 6 4 \n"
     ]
    }
   ],
   "source": [
    "List = [[0]*3 for i in range(3)]\n",
    "for i in range(len(List)):\n",
    "    for j in range(len(List[0])):\n",
    "        List[i][j] = int(input(\"Please enter the value: \"))\n",
    "        \n",
    "for row in List:\n",
    "    for j in row:\n",
    "        print(j, end=\" \")\n",
    "    print()                "
   ]
  },
  {
   "cell_type": "code",
   "execution_count": 1,
   "metadata": {
    "collapsed": false
   },
   "outputs": [
    {
     "name": "stdout",
     "output_type": "stream",
     "text": [
      "Please enter the rows for the first matrix: 2\n",
      "Please enter the columns for the first matrix: 2\n",
      "Please enter the rows for the second matrix: 2\n",
      "Please enter the columns for the second matrix: 2\n",
      "Please enter the element for the first matrix: 12\n",
      "Please enter the element for the second matrix: 32\n",
      "Please enter the element for the first matrix: 43\n",
      "Please enter the element for the second matrix: 54\n",
      "Please enter the element for the first matrix: 65\n",
      "Please enter the element for the second matrix: 34\n",
      "Please enter the element for the first matrix: 65\n",
      "Please enter the element for the second matrix: 54\n",
      "44 97 \n",
      "99 119 \n"
     ]
    }
   ],
   "source": [
    "# Matrix addition\n",
    "r1 = int(input(\"Please enter the rows for the first matrix: \"))\n",
    "c1 = int(input(\"Please enter the columns for the first matrix: \"))\n",
    "\n",
    "r2 = int(input(\"Please enter the rows for the second matrix: \"))\n",
    "c2 = int(input(\"Please enter the columns for the second matrix: \"))\n",
    "\n",
    "matrix1 = [[0]*c1 for i in range(r1)]\n",
    "matrix2 = [[0]*c2 for i in range(r2)]\n",
    "resultant = [[0]*c2 for i in range(r2)]\n",
    "\n",
    "if r1 == r2 and c1 == c2:\n",
    "    \n",
    "    for i in range(r1):\n",
    "        for j in range(c1):\n",
    "            matrix1[i][j] = int(input(\"Please enter the element for the first matrix: \"))\n",
    "            matrix2[i][j] = int(input(\"Please enter the element for the second matrix: \"))\n",
    "            \n",
    "    for i in range(r1):\n",
    "        for j in range(c1):\n",
    "            resultant[i][j] = matrix1[i][j] + matrix2[i][j]\n",
    "            \n",
    "    for i in range(r1):\n",
    "        for j in range(c1):\n",
    "            print(resultant[i][j], end=' ')\n",
    "        print()\n",
    "else:\n",
    "    print(\"Matrix addition can't be done the order are not the same: \")"
   ]
  },
  {
   "cell_type": "code",
   "execution_count": 4,
   "metadata": {
    "collapsed": false
   },
   "outputs": [
    {
     "name": "stdout",
     "output_type": "stream",
     "text": [
      "Please enter the rows for the first matrix: 2\n",
      "Please enter the columns for the first matrix: 2\n",
      "Please enter the rows for the second matrix: 2\n",
      "Please enter the columns for the second matrix: 2\n",
      "Please enter the element for the first matrix: 12\n",
      "Please enter the element for the second matrix: 32\n",
      "Please enter the element for the first matrix: 43\n",
      "Please enter the element for the second matrix: 54\n",
      "Please enter the element for the first matrix: 65\n",
      "Please enter the element for the second matrix: 34\n",
      "Please enter the element for the first matrix: 65\n",
      "Please enter the element for the second matrix: 45\n",
      "Matrix 1: \n",
      "[12, 43]\n",
      "[65, 65]\n",
      "Matrix2: \n",
      "[32, 54]\n",
      "[34, 45]\n",
      "Resultant Matrix\n",
      "44 97 \n",
      "99 110 \n"
     ]
    }
   ],
   "source": [
    "# Matrix addition\n",
    "r1 = int(input(\"Please enter the rows for the first matrix: \"))\n",
    "c1 = int(input(\"Please enter the columns for the first matrix: \"))\n",
    "\n",
    "r2 = int(input(\"Please enter the rows for the second matrix: \"))\n",
    "c2 = int(input(\"Please enter the columns for the second matrix: \"))\n",
    "\n",
    "matrix1 = [[0]*c1 for i in range(r1)]\n",
    "matrix2 = [[0]*c2 for i in range(r2)]\n",
    "resultant = [[0]*c2 for i in range(r2)]\n",
    "\n",
    "if r1 == r2 and c1 == c2:\n",
    "    \n",
    "    for i in range(r1):\n",
    "        for j in range(c1):\n",
    "            matrix1[i][j] = int(input(\"Please enter the element for the first matrix: \"))\n",
    "            matrix2[i][j] = int(input(\"Please enter the element for the second matrix: \"))\n",
    "            \n",
    "    for i in range(r1):\n",
    "        for j in range(c1):\n",
    "            resultant[i][j] = matrix1[i][j] + matrix2[i][j]\n",
    "            \n",
    "    print(\"Matrix 1: \")\n",
    "    for i in matrix1:\n",
    "        print(i)\n",
    "    print(\"Matrix2: \")\n",
    "    for j in matrix2:\n",
    "        print(j)\n",
    "    print(\"Resultant Matrix\")\n",
    "    for i in range(r1):\n",
    "        for j in range(c1):\n",
    "            print(resultant[i][j], end=' ')\n",
    "        print()\n",
    "else:\n",
    "    print(\"Matrix addition can't be done\")"
   ]
  },
  {
   "cell_type": "code",
   "execution_count": 6,
   "metadata": {
    "collapsed": false
   },
   "outputs": [
    {
     "name": "stdout",
     "output_type": "stream",
     "text": [
      "Order of first matrix\n",
      "Please enter row for the first matrix: 2\n",
      "Please enter columns for the first matrix: 3\n",
      "Order of second matrix\n",
      "Please enter row for the second matrix: 3\n",
      "Please enter columns for the second matrix: 2\n",
      "Enter element for first matrix here: \n",
      ">>> 1\n",
      ">>> 2\n",
      ">>> 3\n",
      ">>> 4\n",
      ">>> 5\n",
      ">>> 6\n",
      "Enter element for first matrix here: \n",
      ">>> 7\n",
      ">>> 8\n",
      ">>> 9\n",
      ">>> 10\n",
      ">>> 11\n",
      ">>> 12\n",
      "Matrix 1: \n",
      "1 2 3 \n",
      "4 5 6 \n",
      "Matrix 2: \n",
      "7 8 \n",
      "9 10 \n",
      "11 12 \n",
      "[58, 64]\n",
      "[139, 154]\n"
     ]
    }
   ],
   "source": [
    "# Multiplication of two matrices\n",
    "r1 = r2 = c1 = c2 = 0\n",
    "while True:\n",
    "    print(\"Order of first matrix\")\n",
    "    r1 = int(input(\"Please enter row for the first matrix: \"))\n",
    "    c1 = int(input(\"Please enter columns for the first matrix: \"))\n",
    "    \n",
    "    print(\"Order of second matrix\")\n",
    "    r2 = int(input(\"Please enter row for the second matrix: \"))\n",
    "    c2 = int(input(\"Please enter columns for the second matrix: \"))\n",
    "    \n",
    "    if c1 !=r2:\n",
    "        print('_'*50)\n",
    "        print(\"Sorry, matrices can't multiplied, please enter in the correct order: \")\n",
    "        continue\n",
    "    else:\n",
    "        break\n",
    "        \n",
    "arr1 = [[0]*c1 for x in range(r1)]\n",
    "arr2 = [[0]*c2 for x in range(r2)]\n",
    "arr3 = [[0]*c2 for x in range(r1)]\n",
    "\n",
    "print(\"Enter element for first matrix here: \")\n",
    "for i in range(r1):\n",
    "    for j in range(c1):\n",
    "        arr1[i][j] = int(input(\">>> \"))\n",
    "        \n",
    "print(\"Enter element for first matrix here: \")\n",
    "for i in range(r2):\n",
    "    for j in range(c2):\n",
    "        arr2[i][j] = int(input(\">>> \"))\n",
    "        \n",
    "print(\"Matrix 1: \")\n",
    "for i in range(r1):\n",
    "    for j in range(c1):\n",
    "        print(arr1[i][j], end=' ')\n",
    "    print()\n",
    "        \n",
    "print(\"Matrix 2: \")\n",
    "for i in range(r2):\n",
    "    for j in range(c2):\n",
    "        print(arr2[i][j], end=' ')\n",
    "    print()\n",
    "    \n",
    "for i in range(r1):\n",
    "    for j in range(c2):\n",
    "        for k in range(r2):\n",
    "            arr3[i][j] += arr1[i][k] * arr2[k][j]\n",
    "            \n",
    "for row in arr3:\n",
    "    print(row)\n",
    "  \n",
    "\n",
    "    "
   ]
  },
  {
   "cell_type": "code",
   "execution_count": 9,
   "metadata": {
    "collapsed": false
   },
   "outputs": [
    {
     "data": {
      "text/plain": [
       "10"
      ]
     },
     "execution_count": 9,
     "metadata": {},
     "output_type": "execute_result"
    }
   ],
   "source": [
    "# Tuples\n",
    "x = (10, 20, 30)\n",
    "x[0]"
   ]
  },
  {
   "cell_type": "code",
   "execution_count": 10,
   "metadata": {
    "collapsed": false
   },
   "outputs": [
    {
     "data": {
      "text/plain": [
       "(20, 30)"
      ]
     },
     "execution_count": 10,
     "metadata": {},
     "output_type": "execute_result"
    }
   ],
   "source": [
    "x[1:3]"
   ]
  },
  {
   "cell_type": "code",
   "execution_count": 12,
   "metadata": {
    "collapsed": false
   },
   "outputs": [
    {
     "data": {
      "text/plain": [
       "tuple"
      ]
     },
     "execution_count": 12,
     "metadata": {},
     "output_type": "execute_result"
    }
   ],
   "source": [
    "x = (10,)\n",
    "type(x)"
   ]
  },
  {
   "cell_type": "code",
   "execution_count": 13,
   "metadata": {
    "collapsed": false
   },
   "outputs": [
    {
     "data": {
      "text/plain": [
       "(10, 20, 30, 40)"
      ]
     },
     "execution_count": 13,
     "metadata": {},
     "output_type": "execute_result"
    }
   ],
   "source": [
    "tuple([10, 20, 30, 40])"
   ]
  },
  {
   "cell_type": "code",
   "execution_count": 14,
   "metadata": {
    "collapsed": false
   },
   "outputs": [
    {
     "data": {
      "text/plain": [
       "[10, 20, 30]"
      ]
     },
     "execution_count": 14,
     "metadata": {},
     "output_type": "execute_result"
    }
   ],
   "source": [
    "list((10, 20, 30))"
   ]
  },
  {
   "cell_type": "code",
   "execution_count": 31,
   "metadata": {
    "collapsed": false
   },
   "outputs": [
    {
     "data": {
      "text/plain": [
       "'Tahir'"
      ]
     },
     "execution_count": 31,
     "metadata": {},
     "output_type": "execute_result"
    }
   ],
   "source": [
    "# Dictionaries\n",
    "student = {'name':'Tahir', 'rollno':10, 'cgpa':3.1}\n",
    "student['name']"
   ]
  },
  {
   "cell_type": "code",
   "execution_count": 32,
   "metadata": {
    "collapsed": false
   },
   "outputs": [
    {
     "data": {
      "text/plain": [
       "{'cgpa': 3.1, 'gender': 'male', 'name': 'Tahir', 'rollno': 10}"
      ]
     },
     "execution_count": 32,
     "metadata": {},
     "output_type": "execute_result"
    }
   ],
   "source": [
    "student['gender'] = 'male'\n",
    "student"
   ]
  },
  {
   "cell_type": "code",
   "execution_count": 33,
   "metadata": {
    "collapsed": false
   },
   "outputs": [
    {
     "data": {
      "text/plain": [
       "{'cgpa': 3.1, 'name': 'Tahir', 'rollno': 10}"
      ]
     },
     "execution_count": 33,
     "metadata": {},
     "output_type": "execute_result"
    }
   ],
   "source": [
    "del student['gender']\n",
    "student"
   ]
  },
  {
   "cell_type": "code",
   "execution_count": 25,
   "metadata": {
    "collapsed": false
   },
   "outputs": [
    {
     "data": {
      "text/plain": [
       "'Monday'"
      ]
     },
     "execution_count": 25,
     "metadata": {},
     "output_type": "execute_result"
    }
   ],
   "source": [
    "week = {1:'Monday', 2:'Tuesday', 3:'Wednesday'}\n",
    "week[1]"
   ]
  },
  {
   "cell_type": "code",
   "execution_count": 3,
   "metadata": {
    "collapsed": false
   },
   "outputs": [
    {
     "name": "stdout",
     "output_type": "stream",
     "text": [
      "cgpa\n",
      "name\n",
      "rollno\n"
     ]
    }
   ],
   "source": [
    "# Useful methods in dictionaries.\n",
    "student = {'name':'John','rollno':10, 'cgpa':3.17}\n",
    "for i in student.keys():\n",
    "    print(i)"
   ]
  },
  {
   "cell_type": "code",
   "execution_count": 5,
   "metadata": {
    "collapsed": false
   },
   "outputs": [
    {
     "name": "stdout",
     "output_type": "stream",
     "text": [
      "('cgpa', 3.17)\n",
      "('name', 'John')\n",
      "('rollno', 10)\n"
     ]
    }
   ],
   "source": [
    "for i in student.items():\n",
    "    print(i)"
   ]
  },
  {
   "cell_type": "code",
   "execution_count": 6,
   "metadata": {
    "collapsed": false
   },
   "outputs": [
    {
     "data": {
      "text/plain": [
       "True"
      ]
     },
     "execution_count": 6,
     "metadata": {},
     "output_type": "execute_result"
    }
   ],
   "source": [
    "'name' in student.keys()"
   ]
  },
  {
   "cell_type": "code",
   "execution_count": 7,
   "metadata": {
    "collapsed": false
   },
   "outputs": [
    {
     "data": {
      "text/plain": [
       "'John'"
      ]
     },
     "execution_count": 7,
     "metadata": {},
     "output_type": "execute_result"
    }
   ],
   "source": [
    "student['name']"
   ]
  },
  {
   "cell_type": "code",
   "execution_count": 8,
   "metadata": {
    "collapsed": false
   },
   "outputs": [
    {
     "data": {
      "text/plain": [
       "'John'"
      ]
     },
     "execution_count": 8,
     "metadata": {},
     "output_type": "execute_result"
    }
   ],
   "source": [
    "student.get('name', -1)"
   ]
  },
  {
   "cell_type": "code",
   "execution_count": 9,
   "metadata": {
    "collapsed": true
   },
   "outputs": [],
   "source": [
    "if 'name' not in student:\n",
    "    student['name'] = 'John'"
   ]
  },
  {
   "cell_type": "code",
   "execution_count": 10,
   "metadata": {
    "collapsed": false
   },
   "outputs": [
    {
     "data": {
      "text/plain": [
       "'male'"
      ]
     },
     "execution_count": 10,
     "metadata": {},
     "output_type": "execute_result"
    }
   ],
   "source": [
    "student.setdefault('gender', 'male')"
   ]
  },
  {
   "cell_type": "code",
   "execution_count": 11,
   "metadata": {
    "collapsed": false
   },
   "outputs": [
    {
     "data": {
      "text/plain": [
       "{'cgpa': 3.17, 'gender': 'male', 'name': 'John', 'rollno': 10}"
      ]
     },
     "execution_count": 11,
     "metadata": {},
     "output_type": "execute_result"
    }
   ],
   "source": [
    "student"
   ]
  },
  {
   "cell_type": "code",
   "execution_count": 14,
   "metadata": {
    "collapsed": false
   },
   "outputs": [
    {
     "data": {
      "text/plain": [
       "{'Grade': 'A+', 'cgpa': 3.17, 'gender': 'male', 'name': 'John', 'rollno': 10}"
      ]
     },
     "execution_count": 14,
     "metadata": {},
     "output_type": "execute_result"
    }
   ],
   "source": [
    "student.update({'Grade':'A+'})\n",
    "student"
   ]
  },
  {
   "cell_type": "code",
   "execution_count": 16,
   "metadata": {
    "collapsed": false
   },
   "outputs": [
    {
     "data": {
      "text/plain": [
       "{'Alice': {'apples': 5, 'pretzels': 12},\n",
       " 'Bob': {'apples': 2, 'ham sandwiches': 3},\n",
       " 'Carol': {'apple pies': 1, 'cups': 3}}"
      ]
     },
     "execution_count": 16,
     "metadata": {},
     "output_type": "execute_result"
    }
   ],
   "source": [
    "allGuests = {'Alice':{'apples':5, 'pretzels':12},'Bob':{'ham sandwiches':3, 'apples':2}, 'Carol':{'cups':3, 'apple pies':1}}\n",
    "allGuests"
   ]
  },
  {
   "cell_type": "code",
   "execution_count": null,
   "metadata": {
    "collapsed": false
   },
   "outputs": [
    {
     "name": "stdout",
     "output_type": "stream",
     "text": [
      "-------------------------\n",
      "STUDENT MANAGEMENT SYSTEM\n",
      "-------------------------\n",
      "1. add a student\n",
      "2. delete a student\n",
      "3. Search a student\n",
      "4. update a student\n",
      "5. display all students\n",
      "6. Exit\n",
      "Please enter the option: 1\n",
      "Please enter the ID of student: 72735\n",
      "Please enter the roll no. of student: 45764\n",
      "Please enter the first name of student: John\n",
      "Please enter the second name of student: smith\n",
      "Enter cgpa of student: 4.5\n",
      "Student record updated successfully\n",
      "do you want to continue(y/n)?y\n",
      "-------------------------\n",
      "STUDENT MANAGEMENT SYSTEM\n",
      "-------------------------\n",
      "1. add a student\n",
      "2. delete a student\n",
      "3. Search a student\n",
      "4. update a student\n",
      "5. display all students\n",
      "6. Exit\n"
     ]
    }
   ],
   "source": [
    "import pprint\n",
    "studentRecord = {}  # empty dictionary\n",
    "# define all variables to be used in program\n",
    "id = ''\n",
    "firstName = ''\n",
    "secondName = ''\n",
    "rollno = ''\n",
    "cgpa = ''\n",
    "\n",
    "while True:\n",
    "    print('-' * 25)\n",
    "    print(\"STUDENT MANAGEMENT SYSTEM\")\n",
    "    print('-' * 25)\n",
    "    print(\"1. add a student\\n2. delete a student\\n3. Search a student\"\n",
    "          \"\\n4. update a student\\n5. display all students\\n6. Exit\")\n",
    "\n",
    "    option = int(input(\"Please enter the option: \"))\n",
    "\n",
    "    if option == 1: # add a new student\n",
    "        while True:\n",
    "            id = input(\"Please enter the ID of student: \")\n",
    "            if id in studentRecord:\n",
    "                print(\"Id already exist, please enter unique id\")\n",
    "                continue\n",
    "            else:\n",
    "                break\n",
    "\n",
    "        while True:\n",
    "            rollno = input(\"Please enter the roll no. of student: \")\n",
    "            if rollno.isalnum():\n",
    "                break\n",
    "            else:\n",
    "                print(\"Please enter alphanumeric roll number..\")\n",
    "        while True:\n",
    "            firstName = input(\"Please enter the first name of student: \")\n",
    "            secondName = input(\"Please enter the second name of student: \")\n",
    "            if firstName.isalpha() and secondName.isalpha():\n",
    "                break\n",
    "            else:\n",
    "                print(\"Please enter name in alphabetic without spaces\")\n",
    "        while True:\n",
    "            try:\n",
    "                cgpa = float(input(\"Enter cgpa of student: \"))\n",
    "                break\n",
    "            except ValueError:\n",
    "                print(\"Please enter integer or floating point numbers\")\n",
    "\n",
    "        studentRecord.update({id: {'name': firstName +\" \"+ secondName, 'rollno': rollno, 'cgpa': float(cgpa)}})\n",
    "        print(\"Student record updated successfully\")\n",
    "\n",
    "    elif option == 2: # delete a student\n",
    "        id = input(\"Please enter the id of student: \")\n",
    "        result = studentRecord.get(id, -1)\n",
    "        if result == -1:\n",
    "            print(\"Sorry, student does not exist in database\")\n",
    "        else:\n",
    "            del studentRecord[id]\n",
    "            print(\"Student deleted successfully\")\n",
    "    elif option == 3:# searching a student\n",
    "        id = input(\"Please enter the id of student: \")\n",
    "        result = studentRecord.get(id, -1)\n",
    "        if result == -1:\n",
    "            print(\"Sorry, no student was found against id \", id)\n",
    "        else:\n",
    "            pprint.pprint(studentRecord[id])\n",
    "    elif option == 4: # update a student\n",
    "            id = input(\"Please enter the id of student: \")\n",
    "            if studentRecord.get(id, -1) == -1:\n",
    "                print(\"No Record was found against \", id)\n",
    "            else:\n",
    "                print(\"press 1 to update name\")\n",
    "                print(\"press 2 to update roll number\")\n",
    "                print(\"press 3 to update cgpa\")\n",
    "\n",
    "                choice = int(input(\"Your Choice: \"))\n",
    "                if choice == 1:\n",
    "                    while True:\n",
    "                        firstName = input(\"Please enter the first name of student: \")\n",
    "                        secondName = input(\"Please enter the second name of student: \")\n",
    "                        if firstName.isalpha() and secondName.isalpha():\n",
    "                            studentRecord[id]['name'] = firstName + \" \"+secondName\n",
    "                            pprint.pprint(studentRecord[id])\n",
    "                            break\n",
    "                        else:\n",
    "                            print(\"Please enter name in alphabetic without spaces\")\n",
    "                elif choice == 2:\n",
    "                    while True:\n",
    "                        rollno = input(\"Please enter the roll no. of student: \")\n",
    "                        if rollno.isalnum():\n",
    "                            studentRecord[id]['rollno'] = rollno\n",
    "                            print(studentRecord[id])\n",
    "                            break\n",
    "                        else:\n",
    "                            print(\"Please enter name in alphabetic..\")\n",
    "                elif choice == 3:\n",
    "                    while True:\n",
    "                        try:\n",
    "                            cgpa = float(input(\"Enter cgpa of student: \"))\n",
    "                            studentRecord[id]['cgpa'] = cgpa\n",
    "                            break\n",
    "                        except ValueError:\n",
    "                            print(\"Please enter integer or floating point numbers\")\n",
    "\n",
    "\n",
    "    elif option == 5:\n",
    "        print(pprint.pprint(studentRecord))\n",
    "    elif option == 6:\n",
    "        break\n",
    "    else:\n",
    "        print(\"Invalid option\")\n",
    "\n",
    "    choice = input(\"do you want to continue(y/n)?\")\n",
    "\n",
    "    if choice.lower() == 'y':\n",
    "        continue\n",
    "    else:\n",
    "        break\n",
    "\n",
    "print(\"Thank you. See you later\")\n"
   ]
  },
  {
   "cell_type": "code",
   "execution_count": null,
   "metadata": {
    "collapsed": true
   },
   "outputs": [],
   "source": [
    "# String basics\n",
    "name = 'Maxwell'"
   ]
  },
  {
   "cell_type": "code",
   "execution_count": 2,
   "metadata": {
    "collapsed": true
   },
   "outputs": [],
   "source": [
    "name = \"John\""
   ]
  },
  {
   "cell_type": "code",
   "execution_count": 8,
   "metadata": {
    "collapsed": true
   },
   "outputs": [],
   "source": [
    "gender = 'male'"
   ]
  },
  {
   "cell_type": "code",
   "execution_count": 9,
   "metadata": {
    "collapsed": true
   },
   "outputs": [],
   "source": [
    "age = '30'"
   ]
  },
  {
   "cell_type": "code",
   "execution_count": 10,
   "metadata": {
    "collapsed": false
   },
   "outputs": [
    {
     "name": "stdout",
     "output_type": "stream",
     "text": [
      "My name is John, my gender is male and my age is 30\n"
     ]
    }
   ],
   "source": [
    "print(\"My name is {}, my gender is {} and my age is {}\".format(name, gender, age))"
   ]
  },
  {
   "cell_type": "code",
   "execution_count": 11,
   "metadata": {
    "collapsed": false
   },
   "outputs": [
    {
     "name": "stdout",
     "output_type": "stream",
     "text": [
      "Maria is better than John\n"
     ]
    }
   ],
   "source": [
    "print(\"{0} is better than {1}\".format(\"Maria\", \"John\"))"
   ]
  },
  {
   "cell_type": "code",
   "execution_count": 12,
   "metadata": {
    "collapsed": false
   },
   "outputs": [
    {
     "name": "stdout",
     "output_type": "stream",
     "text": [
      "John is better than Maria\n"
     ]
    }
   ],
   "source": [
    "print(\"{1} is better than {0}\".format(\"Maria\", \"John\"))"
   ]
  },
  {
   "cell_type": "code",
   "execution_count": 13,
   "metadata": {
    "collapsed": false
   },
   "outputs": [
    {
     "name": "stdout",
     "output_type": "stream",
     "text": [
      "3.14\n"
     ]
    }
   ],
   "source": [
    "print(\"{:.2f}\".format(3.1415926))"
   ]
  },
  {
   "cell_type": "code",
   "execution_count": 15,
   "metadata": {
    "collapsed": false
   },
   "outputs": [
    {
     "name": "stdout",
     "output_type": "stream",
     "text": [
      "03/09/16\n"
     ]
    }
   ],
   "source": [
    "print(\"{:0>2d}/{:0>2d}/{:2d}\".format(3, 9, 16))"
   ]
  },
  {
   "cell_type": "code",
   "execution_count": 17,
   "metadata": {
    "collapsed": false
   },
   "outputs": [
    {
     "name": "stdout",
     "output_type": "stream",
     "text": [
      "3xxx\n"
     ]
    }
   ],
   "source": [
    "print(\"{:x<4d}\".format(3))"
   ]
  },
  {
   "cell_type": "code",
   "execution_count": 18,
   "metadata": {
    "collapsed": false
   },
   "outputs": [
    {
     "name": "stdout",
     "output_type": "stream",
     "text": [
      "1,000,000\n"
     ]
    }
   ],
   "source": [
    "print(\"{:,}\".format(1000000))"
   ]
  },
  {
   "cell_type": "code",
   "execution_count": 19,
   "metadata": {
    "collapsed": false
   },
   "outputs": [
    {
     "name": "stdout",
     "output_type": "stream",
     "text": [
      "35%\n"
     ]
    }
   ],
   "source": [
    "print(\"{:.0%}\".format(.35))"
   ]
  },
  {
   "cell_type": "code",
   "execution_count": 22,
   "metadata": {
    "collapsed": false
   },
   "outputs": [
    {
     "name": "stdout",
     "output_type": "stream",
     "text": [
      "1e+10\n"
     ]
    }
   ],
   "source": [
    "print(\"{:.0e}\".format(10000000000))"
   ]
  },
  {
   "cell_type": "code",
   "execution_count": 23,
   "metadata": {
    "collapsed": false
   },
   "outputs": [
    {
     "name": "stdout",
     "output_type": "stream",
     "text": [
      "        13\n"
     ]
    }
   ],
   "source": [
    "print(\"{:10d}\".format(13))"
   ]
  },
  {
   "cell_type": "code",
   "execution_count": 24,
   "metadata": {
    "collapsed": false
   },
   "outputs": [
    {
     "name": "stdout",
     "output_type": "stream",
     "text": [
      "13        \n"
     ]
    }
   ],
   "source": [
    "print(\"{:<10d}\".format(13))"
   ]
  },
  {
   "cell_type": "code",
   "execution_count": 26,
   "metadata": {
    "collapsed": false
   },
   "outputs": [
    {
     "name": "stdout",
     "output_type": "stream",
     "text": [
      "   1376   \n"
     ]
    }
   ],
   "source": [
    "print(\"{:^10d}\".format(1376))"
   ]
  },
  {
   "cell_type": "code",
   "execution_count": 1,
   "metadata": {
    "collapsed": false
   },
   "outputs": [
    {
     "name": "stdout",
     "output_type": "stream",
     "text": [
      "MartinHewing\n"
     ]
    }
   ],
   "source": [
    "firstName = \"Martin\"\n",
    "lastName = \"Hewing\"\n",
    "print(firstName + lastName)"
   ]
  },
  {
   "cell_type": "code",
   "execution_count": 2,
   "metadata": {
    "collapsed": false
   },
   "outputs": [
    {
     "name": "stdout",
     "output_type": "stream",
     "text": [
      "Martin10\n"
     ]
    }
   ],
   "source": [
    "print(\"Martin\" + str(10))"
   ]
  },
  {
   "cell_type": "code",
   "execution_count": 3,
   "metadata": {
    "collapsed": false
   },
   "outputs": [
    {
     "data": {
      "text/plain": [
       "'M'"
      ]
     },
     "execution_count": 3,
     "metadata": {},
     "output_type": "execute_result"
    }
   ],
   "source": [
    "firstName[0]"
   ]
  },
  {
   "cell_type": "code",
   "execution_count": 4,
   "metadata": {
    "collapsed": false
   },
   "outputs": [
    {
     "data": {
      "text/plain": [
       "6"
      ]
     },
     "execution_count": 4,
     "metadata": {},
     "output_type": "execute_result"
    }
   ],
   "source": [
    "len(firstName)"
   ]
  },
  {
   "cell_type": "code",
   "execution_count": 5,
   "metadata": {
    "collapsed": false
   },
   "outputs": [
    {
     "name": "stdout",
     "output_type": "stream",
     "text": [
      "M\n",
      "a\n",
      "r\n",
      "t\n",
      "i\n",
      "n\n"
     ]
    }
   ],
   "source": [
    "for i in firstName:\n",
    "    print(i)"
   ]
  },
  {
   "cell_type": "code",
   "execution_count": 6,
   "metadata": {
    "collapsed": true
   },
   "outputs": [],
   "source": [
    "venue = \"The University of Essex\""
   ]
  },
  {
   "cell_type": "code",
   "execution_count": 8,
   "metadata": {
    "collapsed": false
   },
   "outputs": [
    {
     "data": {
      "text/plain": [
       "'The Un'"
      ]
     },
     "execution_count": 8,
     "metadata": {},
     "output_type": "execute_result"
    }
   ],
   "source": [
    "venue[0:6]"
   ]
  },
  {
   "cell_type": "code",
   "execution_count": 9,
   "metadata": {
    "collapsed": false
   },
   "outputs": [
    {
     "data": {
      "text/plain": [
       "'versity of Essex'"
      ]
     },
     "execution_count": 9,
     "metadata": {},
     "output_type": "execute_result"
    }
   ],
   "source": [
    "venue[7:]"
   ]
  },
  {
   "cell_type": "code",
   "execution_count": 10,
   "metadata": {
    "collapsed": false
   },
   "outputs": [
    {
     "data": {
      "text/plain": [
       "True"
      ]
     },
     "execution_count": 10,
     "metadata": {},
     "output_type": "execute_result"
    }
   ],
   "source": [
    "\"Essex\" in venue"
   ]
  },
  {
   "cell_type": "code",
   "execution_count": 12,
   "metadata": {
    "collapsed": false
   },
   "outputs": [
    {
     "data": {
      "text/plain": [
       "'CAT'"
      ]
     },
     "execution_count": 12,
     "metadata": {},
     "output_type": "execute_result"
    }
   ],
   "source": [
    "\"cat\".upper()"
   ]
  },
  {
   "cell_type": "code",
   "execution_count": 13,
   "metadata": {
    "collapsed": false
   },
   "outputs": [
    {
     "data": {
      "text/plain": [
       "'cat'"
      ]
     },
     "execution_count": 13,
     "metadata": {},
     "output_type": "execute_result"
    }
   ],
   "source": [
    "\"CAT\".lower()"
   ]
  },
  {
   "cell_type": "code",
   "execution_count": 14,
   "metadata": {
    "collapsed": false
   },
   "outputs": [
    {
     "data": {
      "text/plain": [
       "True"
      ]
     },
     "execution_count": 14,
     "metadata": {},
     "output_type": "execute_result"
    }
   ],
   "source": [
    "\"cat\".islower()"
   ]
  },
  {
   "cell_type": "code",
   "execution_count": 15,
   "metadata": {
    "collapsed": false
   },
   "outputs": [
    {
     "data": {
      "text/plain": [
       "True"
      ]
     },
     "execution_count": 15,
     "metadata": {},
     "output_type": "execute_result"
    }
   ],
   "source": [
    "\"CAT\".isupper()"
   ]
  },
  {
   "cell_type": "code",
   "execution_count": 16,
   "metadata": {
    "collapsed": false
   },
   "outputs": [
    {
     "data": {
      "text/plain": [
       "True"
      ]
     },
     "execution_count": 16,
     "metadata": {},
     "output_type": "execute_result"
    }
   ],
   "source": [
    "\"Martin\".isalpha()"
   ]
  },
  {
   "cell_type": "code",
   "execution_count": 17,
   "metadata": {
    "collapsed": false
   },
   "outputs": [
    {
     "data": {
      "text/plain": [
       "True"
      ]
     },
     "execution_count": 17,
     "metadata": {},
     "output_type": "execute_result"
    }
   ],
   "source": [
    "\"120\".isdecimal()"
   ]
  },
  {
   "cell_type": "code",
   "execution_count": 18,
   "metadata": {
    "collapsed": false
   },
   "outputs": [
    {
     "data": {
      "text/plain": [
       "True"
      ]
     },
     "execution_count": 18,
     "metadata": {},
     "output_type": "execute_result"
    }
   ],
   "source": [
    "\"\\n\".isspace()"
   ]
  },
  {
   "cell_type": "code",
   "execution_count": 19,
   "metadata": {
    "collapsed": false
   },
   "outputs": [
    {
     "data": {
      "text/plain": [
       "False"
      ]
     },
     "execution_count": 19,
     "metadata": {},
     "output_type": "execute_result"
    }
   ],
   "source": [
    "\"\".isspace()"
   ]
  },
  {
   "cell_type": "code",
   "execution_count": 20,
   "metadata": {
    "collapsed": false
   },
   "outputs": [
    {
     "name": "stdout",
     "output_type": "stream",
     "text": [
      "Please enter user ID: 345653222344556\n",
      "Please enter password: 346224665\n"
     ]
    }
   ],
   "source": [
    "# validate user input\n",
    "\n",
    "while True:\n",
    "    userID = input(\"Please enter user ID: \")\n",
    "    \n",
    "    if userID.isalnum():\n",
    "        break \n",
    "    else:\n",
    "        print(\"Please enter user ID in alpha numeric format\")\n",
    "        \n",
    "while True:\n",
    "    password = input(\"Please enter password: \")\n",
    "    \n",
    "    if password.isdecimal() and len(password) <= 10:\n",
    "        break\n",
    "    else:\n",
    "        print(\"Please enter the password in the correct format\")"
   ]
  },
  {
   "cell_type": "code",
   "execution_count": 23,
   "metadata": {
    "collapsed": false
   },
   "outputs": [
    {
     "data": {
      "text/plain": [
       "True"
      ]
     },
     "execution_count": 23,
     "metadata": {},
     "output_type": "execute_result"
    }
   ],
   "source": [
    "\"Martin\".startswith(\"M\")"
   ]
  },
  {
   "cell_type": "code",
   "execution_count": 24,
   "metadata": {
    "collapsed": false
   },
   "outputs": [
    {
     "data": {
      "text/plain": [
       "True"
      ]
     },
     "execution_count": 24,
     "metadata": {},
     "output_type": "execute_result"
    }
   ],
   "source": [
    "\"Martin\".endswith(\"n\")"
   ]
  },
  {
   "cell_type": "code",
   "execution_count": 25,
   "metadata": {
    "collapsed": false
   },
   "outputs": [
    {
     "data": {
      "text/plain": [
       "'Martin Lee Eve'"
      ]
     },
     "execution_count": 25,
     "metadata": {},
     "output_type": "execute_result"
    }
   ],
   "source": [
    "names = [\"Martin\", \"Lee\", \"Eve\"]\n",
    "names1 = \" \"\n",
    "names1.join(names)"
   ]
  },
  {
   "cell_type": "code",
   "execution_count": 26,
   "metadata": {
    "collapsed": false
   },
   "outputs": [
    {
     "data": {
      "text/plain": [
       "'MartinLeeEve'"
      ]
     },
     "execution_count": 26,
     "metadata": {},
     "output_type": "execute_result"
    }
   ],
   "source": [
    "names1 = \"\"\n",
    "names1.join(names)"
   ]
  },
  {
   "cell_type": "code",
   "execution_count": 27,
   "metadata": {
    "collapsed": false
   },
   "outputs": [
    {
     "data": {
      "text/plain": [
       "'Martin,Lee,Eve'"
      ]
     },
     "execution_count": 27,
     "metadata": {},
     "output_type": "execute_result"
    }
   ],
   "source": [
    "names1 = \",\"\n",
    "names1.join(names)"
   ]
  },
  {
   "cell_type": "code",
   "execution_count": 28,
   "metadata": {
    "collapsed": false
   },
   "outputs": [
    {
     "data": {
      "text/plain": [
       "['My', 'name', 'is', 'Martin']"
      ]
     },
     "execution_count": 28,
     "metadata": {},
     "output_type": "execute_result"
    }
   ],
   "source": [
    "text = \"My name is Martin\"\n",
    "text.split(\" \")"
   ]
  },
  {
   "cell_type": "code",
   "execution_count": 30,
   "metadata": {
    "collapsed": false
   },
   "outputs": [
    {
     "name": "stdout",
     "output_type": "stream",
     "text": [
      "Please enter three numbers with spaces: 12 54 87\n"
     ]
    }
   ],
   "source": [
    "p = input(\"Please enter three numbers with spaces: \")"
   ]
  },
  {
   "cell_type": "code",
   "execution_count": 31,
   "metadata": {
    "collapsed": false
   },
   "outputs": [
    {
     "data": {
      "text/plain": [
       "['12', '54', '87']"
      ]
     },
     "execution_count": 31,
     "metadata": {},
     "output_type": "execute_result"
    }
   ],
   "source": [
    "p.split(\" \")"
   ]
  },
  {
   "cell_type": "code",
   "execution_count": 32,
   "metadata": {
    "collapsed": false
   },
   "outputs": [
    {
     "data": {
      "text/plain": [
       "12"
      ]
     },
     "execution_count": 32,
     "metadata": {},
     "output_type": "execute_result"
    }
   ],
   "source": [
    "numbers = p.split(\" \")\n",
    "x1 = int(numbers[0])\n",
    "x1"
   ]
  },
  {
   "cell_type": "code",
   "execution_count": 34,
   "metadata": {
    "collapsed": false
   },
   "outputs": [
    {
     "data": {
      "text/plain": [
       "54"
      ]
     },
     "execution_count": 34,
     "metadata": {},
     "output_type": "execute_result"
    }
   ],
   "source": [
    "x2 = int(numbers[1])\n",
    "x2"
   ]
  },
  {
   "cell_type": "code",
   "execution_count": 35,
   "metadata": {
    "collapsed": false
   },
   "outputs": [
    {
     "data": {
      "text/plain": [
       "'     Hello'"
      ]
     },
     "execution_count": 35,
     "metadata": {},
     "output_type": "execute_result"
    }
   ],
   "source": [
    "\"Hello\".rjust(10)"
   ]
  },
  {
   "cell_type": "code",
   "execution_count": 36,
   "metadata": {
    "collapsed": false
   },
   "outputs": [
    {
     "data": {
      "text/plain": [
       "'Hello     '"
      ]
     },
     "execution_count": 36,
     "metadata": {},
     "output_type": "execute_result"
    }
   ],
   "source": [
    "\"Hello\".ljust(10)"
   ]
  },
  {
   "cell_type": "code",
   "execution_count": 37,
   "metadata": {
    "collapsed": false
   },
   "outputs": [
    {
     "data": {
      "text/plain": [
       "'Hello World'"
      ]
     },
     "execution_count": 37,
     "metadata": {},
     "output_type": "execute_result"
    }
   ],
   "source": [
    "\"    Hello World\".strip()"
   ]
  },
  {
   "cell_type": "code",
   "execution_count": 38,
   "metadata": {
    "collapsed": false
   },
   "outputs": [
    {
     "data": {
      "text/plain": [
       "'Hello World'"
      ]
     },
     "execution_count": 38,
     "metadata": {},
     "output_type": "execute_result"
    }
   ],
   "source": [
    "\"Hello World\".lstrip()"
   ]
  },
  {
   "cell_type": "code",
   "execution_count": 39,
   "metadata": {
    "collapsed": false
   },
   "outputs": [
    {
     "name": "stdout",
     "output_type": "stream",
     "text": [
      "Enter a phrase: The University of Essex\n",
      "TUOE\n"
     ]
    }
   ],
   "source": [
    "# Find the acronym of a phrase\n",
    "phrase = input(\"Enter a phrase: \")\n",
    "phrase = phrase.strip()\n",
    "phrase = phrase.upper()\n",
    "words = phrase.split(\" \")\n",
    "\n",
    "letters = []\n",
    "for word in words:\n",
    "    letters.append(word[0])\n",
    "    \n",
    "acronym = ''.join(letters)\n",
    "print(acronym)"
   ]
  },
  {
   "cell_type": "code",
   "execution_count": 40,
   "metadata": {
    "collapsed": false
   },
   "outputs": [
    {
     "name": "stdout",
     "output_type": "stream",
     "text": [
      "Enter a string: ada\n",
      "ada  is a palindrome\n"
     ]
    }
   ],
   "source": [
    "# Find a Palindrome\n",
    "\n",
    "string = input(\"Enter a string: \")\n",
    "\n",
    "string = string.lower()\n",
    "\n",
    "L = len(string)\n",
    "\n",
    "flag = True\n",
    "\n",
    "for i in range(L // 2):\n",
    "    if string[i] == string[(L-1) - i]:\n",
    "        pass\n",
    "    else:\n",
    "        flag = False\n",
    "        break\n",
    "        \n",
    "if flag:\n",
    "    print(string, \" is a palindrome\")\n",
    "else:\n",
    "    print(string, \" is not a palindrome\")"
   ]
  }
 ],
 "metadata": {
  "kernelspec": {
   "display_name": "Python 3",
   "language": "python",
   "name": "python3"
  },
  "language_info": {
   "codemirror_mode": {
    "name": "ipython",
    "version": 3
   },
   "file_extension": ".py",
   "mimetype": "text/x-python",
   "name": "python",
   "nbconvert_exporter": "python",
   "pygments_lexer": "ipython3",
   "version": "3.5.1"
  }
 },
 "nbformat": 4,
 "nbformat_minor": 0
}
