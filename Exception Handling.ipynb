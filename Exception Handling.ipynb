{
 "cells": [
  {
   "cell_type": "code",
   "execution_count": 2,
   "metadata": {
    "collapsed": false
   },
   "outputs": [
    {
     "name": "stdout",
     "output_type": "stream",
     "text": [
      "Error: Division by zero\n"
     ]
    }
   ],
   "source": [
    "try:\n",
    "    print(10 / 0)\n",
    "except:\n",
    "    print(\"Error: Division by zero\")"
   ]
  },
  {
   "cell_type": "code",
   "execution_count": 4,
   "metadata": {
    "collapsed": false
   },
   "outputs": [
    {
     "name": "stdout",
     "output_type": "stream",
     "text": [
      "Invalid operation\n"
     ]
    }
   ],
   "source": [
    "try:\n",
    "    print(10 + \"Martin\")\n",
    "except:\n",
    "    print(\"Invalid operation\")"
   ]
  },
  {
   "cell_type": "code",
   "execution_count": 5,
   "metadata": {
    "collapsed": false
   },
   "outputs": [
    {
     "name": "stdout",
     "output_type": "stream",
     "text": [
      "Division by zero\n"
     ]
    }
   ],
   "source": [
    "try:\n",
    "    print(10 / 0)\n",
    "except ZeroDivisionError:\n",
    "    print(\"Division by zero\")    "
   ]
  },
  {
   "cell_type": "code",
   "execution_count": 9,
   "metadata": {
    "collapsed": false
   },
   "outputs": [
    {
     "name": "stdout",
     "output_type": "stream",
     "text": [
      "Division by zero\n"
     ]
    }
   ],
   "source": [
    "try: \n",
    "    print(10 / 0)\n",
    "    int('sdg')\n",
    "except ZeroDivisionError:\n",
    "    print(\"Division by zero\")\n",
    "except ValueError:\n",
    "    print(\"Cant convert from sdg to int\")"
   ]
  },
  {
   "cell_type": "code",
   "execution_count": 10,
   "metadata": {
    "collapsed": false
   },
   "outputs": [
    {
     "name": "stdout",
     "output_type": "stream",
     "text": [
      "5.0\n",
      "Cant convert from sdg to int\n"
     ]
    }
   ],
   "source": [
    "try: \n",
    "    print(10 / 2)\n",
    "    int('sdg')\n",
    "except ZeroDivisionError:\n",
    "    print(\"Division by zero\")\n",
    "except ValueError:\n",
    "    print(\"Cant convert from sdg to int\")"
   ]
  },
  {
   "cell_type": "code",
   "execution_count": 12,
   "metadata": {
    "collapsed": false
   },
   "outputs": [
    {
     "name": "stdout",
     "output_type": "stream",
     "text": [
      "5.0\n",
      "Division by zero or value error\n"
     ]
    }
   ],
   "source": [
    "try: \n",
    "    print(10 / 2)\n",
    "    int('sdg')\n",
    "except (ZeroDivisionError, ValueError):\n",
    "    print(\"Division by zero or value error\")   "
   ]
  },
  {
   "cell_type": "code",
   "execution_count": 13,
   "metadata": {
    "collapsed": false
   },
   "outputs": [
    {
     "name": "stdout",
     "output_type": "stream",
     "text": [
      "Error Type: <class 'IndexError'>, Error Message: ('list index out of range',)\n"
     ]
    }
   ],
   "source": [
    "try:\n",
    "    a = [10, 20, 30 ,40]\n",
    "    print(a[4])\n",
    "except Exception as e:\n",
    "    print(\"Error Type: {}, Error Message: {}\".format(type(e), e.args))"
   ]
  },
  {
   "cell_type": "code",
   "execution_count": 14,
   "metadata": {
    "collapsed": false
   },
   "outputs": [
    {
     "name": "stdout",
     "output_type": "stream",
     "text": [
      "Error Type: <class 'KeyError'>, Error Message: (3,)\n"
     ]
    }
   ],
   "source": [
    "try:\n",
    "    a = {1: \"a\", 2: \"b\"}\n",
    "    print(a[3])\n",
    "except Exception as e:\n",
    "    print(\"Error Type: {}, Error Message: {}\".format(type(e), e.args))"
   ]
  },
  {
   "cell_type": "code",
   "execution_count": 15,
   "metadata": {
    "collapsed": false
   },
   "outputs": [
    {
     "name": "stdout",
     "output_type": "stream",
     "text": [
      "Error Type: <class 'TypeError'>, Error Message: (\"unsupported operand type(s) for +: 'int' and 'str'\",)\n",
      "Lets wind up things here...\n"
     ]
    }
   ],
   "source": [
    "try:\n",
    "    print(10 + '')\n",
    "except Exception as e:\n",
    "    print(\"Error Type: {}, Error Message: {}\".format(type(e), e.args))\n",
    "finally:\n",
    "    print(\"Lets wind up things here...\")"
   ]
  },
  {
   "cell_type": "code",
   "execution_count": 16,
   "metadata": {
    "collapsed": false
   },
   "outputs": [
    {
     "name": "stdout",
     "output_type": "stream",
     "text": [
      "('This is my own generated exception...',)\n"
     ]
    }
   ],
   "source": [
    "try:\n",
    "    raise Exception(\"This is my own generated exception...\")\n",
    "except Exception as e:\n",
    "    print(e.args)"
   ]
  }
 ],
 "metadata": {
  "kernelspec": {
   "display_name": "Python 3",
   "language": "python",
   "name": "python3"
  },
  "language_info": {
   "codemirror_mode": {
    "name": "ipython",
    "version": 3
   },
   "file_extension": ".py",
   "mimetype": "text/x-python",
   "name": "python",
   "nbconvert_exporter": "python",
   "pygments_lexer": "ipython3",
   "version": "3.5.1"
  }
 },
 "nbformat": 4,
 "nbformat_minor": 0
}
